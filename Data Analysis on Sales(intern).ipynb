{
 "cells": [
  {
   "cell_type": "code",
   "execution_count": 1,
   "id": "6852570d-8a9a-4e89-8075-2b2b952f50cc",
   "metadata": {},
   "outputs": [],
   "source": [
    "# Installing libraries\n",
    "import pandas as pd"
   ]
  },
  {
   "cell_type": "code",
   "execution_count": 2,
   "id": "001798bb-23db-4fe9-95ed-385797c846c1",
   "metadata": {},
   "outputs": [
    {
     "data": {
      "text/html": [
       "<div>\n",
       "<style scoped>\n",
       "    .dataframe tbody tr th:only-of-type {\n",
       "        vertical-align: middle;\n",
       "    }\n",
       "\n",
       "    .dataframe tbody tr th {\n",
       "        vertical-align: top;\n",
       "    }\n",
       "\n",
       "    .dataframe thead th {\n",
       "        text-align: right;\n",
       "    }\n",
       "</style>\n",
       "<table border=\"1\" class=\"dataframe\">\n",
       "  <thead>\n",
       "    <tr style=\"text-align: right;\">\n",
       "      <th></th>\n",
       "      <th>customer_id</th>\n",
       "      <th>trans_date</th>\n",
       "      <th>tran_amount</th>\n",
       "    </tr>\n",
       "  </thead>\n",
       "  <tbody>\n",
       "    <tr>\n",
       "      <th>0</th>\n",
       "      <td>CS5295</td>\n",
       "      <td>11-Feb-13</td>\n",
       "      <td>35</td>\n",
       "    </tr>\n",
       "    <tr>\n",
       "      <th>1</th>\n",
       "      <td>CS4768</td>\n",
       "      <td>15-Mar-15</td>\n",
       "      <td>39</td>\n",
       "    </tr>\n",
       "    <tr>\n",
       "      <th>2</th>\n",
       "      <td>CS2122</td>\n",
       "      <td>26-Feb-13</td>\n",
       "      <td>52</td>\n",
       "    </tr>\n",
       "    <tr>\n",
       "      <th>3</th>\n",
       "      <td>CS1217</td>\n",
       "      <td>16-Nov-11</td>\n",
       "      <td>99</td>\n",
       "    </tr>\n",
       "    <tr>\n",
       "      <th>4</th>\n",
       "      <td>CS1850</td>\n",
       "      <td>20-Nov-13</td>\n",
       "      <td>78</td>\n",
       "    </tr>\n",
       "    <tr>\n",
       "      <th>...</th>\n",
       "      <td>...</td>\n",
       "      <td>...</td>\n",
       "      <td>...</td>\n",
       "    </tr>\n",
       "    <tr>\n",
       "      <th>124995</th>\n",
       "      <td>CS8433</td>\n",
       "      <td>26-Jun-11</td>\n",
       "      <td>64</td>\n",
       "    </tr>\n",
       "    <tr>\n",
       "      <th>124996</th>\n",
       "      <td>CS7232</td>\n",
       "      <td>19-Aug-14</td>\n",
       "      <td>38</td>\n",
       "    </tr>\n",
       "    <tr>\n",
       "      <th>124997</th>\n",
       "      <td>CS8731</td>\n",
       "      <td>28-Nov-14</td>\n",
       "      <td>42</td>\n",
       "    </tr>\n",
       "    <tr>\n",
       "      <th>124998</th>\n",
       "      <td>CS8133</td>\n",
       "      <td>14-Dec-13</td>\n",
       "      <td>13</td>\n",
       "    </tr>\n",
       "    <tr>\n",
       "      <th>124999</th>\n",
       "      <td>CS7996</td>\n",
       "      <td>13-Dec-14</td>\n",
       "      <td>36</td>\n",
       "    </tr>\n",
       "  </tbody>\n",
       "</table>\n",
       "<p>125000 rows × 3 columns</p>\n",
       "</div>"
      ],
      "text/plain": [
       "       customer_id trans_date  tran_amount\n",
       "0           CS5295  11-Feb-13           35\n",
       "1           CS4768  15-Mar-15           39\n",
       "2           CS2122  26-Feb-13           52\n",
       "3           CS1217  16-Nov-11           99\n",
       "4           CS1850  20-Nov-13           78\n",
       "...            ...        ...          ...\n",
       "124995      CS8433  26-Jun-11           64\n",
       "124996      CS7232  19-Aug-14           38\n",
       "124997      CS8731  28-Nov-14           42\n",
       "124998      CS8133  14-Dec-13           13\n",
       "124999      CS7996  13-Dec-14           36\n",
       "\n",
       "[125000 rows x 3 columns]"
      ]
     },
     "execution_count": 2,
     "metadata": {},
     "output_type": "execute_result"
    }
   ],
   "source": [
    "trans = pd.read_csv(\"C:/ProgramData/MySQL/MySQL Server 8.0/Uploads/Retail_Data_Transactions.csv\")\n",
    "trans"
   ]
  },
  {
   "cell_type": "code",
   "execution_count": 3,
   "id": "4c237bb5-59a3-49bc-994c-7599b5bfa25e",
   "metadata": {},
   "outputs": [
    {
     "data": {
      "text/html": [
       "<div>\n",
       "<style scoped>\n",
       "    .dataframe tbody tr th:only-of-type {\n",
       "        vertical-align: middle;\n",
       "    }\n",
       "\n",
       "    .dataframe tbody tr th {\n",
       "        vertical-align: top;\n",
       "    }\n",
       "\n",
       "    .dataframe thead th {\n",
       "        text-align: right;\n",
       "    }\n",
       "</style>\n",
       "<table border=\"1\" class=\"dataframe\">\n",
       "  <thead>\n",
       "    <tr style=\"text-align: right;\">\n",
       "      <th></th>\n",
       "      <th>customer_id</th>\n",
       "      <th>response</th>\n",
       "    </tr>\n",
       "  </thead>\n",
       "  <tbody>\n",
       "    <tr>\n",
       "      <th>0</th>\n",
       "      <td>CS1112</td>\n",
       "      <td>0</td>\n",
       "    </tr>\n",
       "    <tr>\n",
       "      <th>1</th>\n",
       "      <td>CS1113</td>\n",
       "      <td>0</td>\n",
       "    </tr>\n",
       "    <tr>\n",
       "      <th>2</th>\n",
       "      <td>CS1114</td>\n",
       "      <td>1</td>\n",
       "    </tr>\n",
       "    <tr>\n",
       "      <th>3</th>\n",
       "      <td>CS1115</td>\n",
       "      <td>1</td>\n",
       "    </tr>\n",
       "    <tr>\n",
       "      <th>4</th>\n",
       "      <td>CS1116</td>\n",
       "      <td>1</td>\n",
       "    </tr>\n",
       "    <tr>\n",
       "      <th>...</th>\n",
       "      <td>...</td>\n",
       "      <td>...</td>\n",
       "    </tr>\n",
       "    <tr>\n",
       "      <th>6879</th>\n",
       "      <td>CS8996</td>\n",
       "      <td>0</td>\n",
       "    </tr>\n",
       "    <tr>\n",
       "      <th>6880</th>\n",
       "      <td>CS8997</td>\n",
       "      <td>0</td>\n",
       "    </tr>\n",
       "    <tr>\n",
       "      <th>6881</th>\n",
       "      <td>CS8998</td>\n",
       "      <td>0</td>\n",
       "    </tr>\n",
       "    <tr>\n",
       "      <th>6882</th>\n",
       "      <td>CS8999</td>\n",
       "      <td>0</td>\n",
       "    </tr>\n",
       "    <tr>\n",
       "      <th>6883</th>\n",
       "      <td>CS9000</td>\n",
       "      <td>0</td>\n",
       "    </tr>\n",
       "  </tbody>\n",
       "</table>\n",
       "<p>6884 rows × 2 columns</p>\n",
       "</div>"
      ],
      "text/plain": [
       "     customer_id  response\n",
       "0         CS1112         0\n",
       "1         CS1113         0\n",
       "2         CS1114         1\n",
       "3         CS1115         1\n",
       "4         CS1116         1\n",
       "...          ...       ...\n",
       "6879      CS8996         0\n",
       "6880      CS8997         0\n",
       "6881      CS8998         0\n",
       "6882      CS8999         0\n",
       "6883      CS9000         0\n",
       "\n",
       "[6884 rows x 2 columns]"
      ]
     },
     "execution_count": 3,
     "metadata": {},
     "output_type": "execute_result"
    }
   ],
   "source": [
    "response = pd.read_csv(\"C:/ProgramData/MySQL/MySQL Server 8.0/Uploads/Retail_Data_Response.csv\")\n",
    "response"
   ]
  },
  {
   "cell_type": "code",
   "execution_count": 4,
   "id": "97c5116d-9c41-42e5-84ed-764487759204",
   "metadata": {},
   "outputs": [
    {
     "data": {
      "text/html": [
       "<div>\n",
       "<style scoped>\n",
       "    .dataframe tbody tr th:only-of-type {\n",
       "        vertical-align: middle;\n",
       "    }\n",
       "\n",
       "    .dataframe tbody tr th {\n",
       "        vertical-align: top;\n",
       "    }\n",
       "\n",
       "    .dataframe thead th {\n",
       "        text-align: right;\n",
       "    }\n",
       "</style>\n",
       "<table border=\"1\" class=\"dataframe\">\n",
       "  <thead>\n",
       "    <tr style=\"text-align: right;\">\n",
       "      <th></th>\n",
       "      <th>customer_id</th>\n",
       "      <th>trans_date</th>\n",
       "      <th>tran_amount</th>\n",
       "      <th>response</th>\n",
       "    </tr>\n",
       "  </thead>\n",
       "  <tbody>\n",
       "    <tr>\n",
       "      <th>0</th>\n",
       "      <td>CS5295</td>\n",
       "      <td>11-Feb-13</td>\n",
       "      <td>35</td>\n",
       "      <td>1.0</td>\n",
       "    </tr>\n",
       "    <tr>\n",
       "      <th>1</th>\n",
       "      <td>CS4768</td>\n",
       "      <td>15-Mar-15</td>\n",
       "      <td>39</td>\n",
       "      <td>1.0</td>\n",
       "    </tr>\n",
       "    <tr>\n",
       "      <th>2</th>\n",
       "      <td>CS2122</td>\n",
       "      <td>26-Feb-13</td>\n",
       "      <td>52</td>\n",
       "      <td>0.0</td>\n",
       "    </tr>\n",
       "    <tr>\n",
       "      <th>3</th>\n",
       "      <td>CS1217</td>\n",
       "      <td>16-Nov-11</td>\n",
       "      <td>99</td>\n",
       "      <td>0.0</td>\n",
       "    </tr>\n",
       "    <tr>\n",
       "      <th>4</th>\n",
       "      <td>CS1850</td>\n",
       "      <td>20-Nov-13</td>\n",
       "      <td>78</td>\n",
       "      <td>0.0</td>\n",
       "    </tr>\n",
       "    <tr>\n",
       "      <th>...</th>\n",
       "      <td>...</td>\n",
       "      <td>...</td>\n",
       "      <td>...</td>\n",
       "      <td>...</td>\n",
       "    </tr>\n",
       "    <tr>\n",
       "      <th>124995</th>\n",
       "      <td>CS8433</td>\n",
       "      <td>26-Jun-11</td>\n",
       "      <td>64</td>\n",
       "      <td>0.0</td>\n",
       "    </tr>\n",
       "    <tr>\n",
       "      <th>124996</th>\n",
       "      <td>CS7232</td>\n",
       "      <td>19-Aug-14</td>\n",
       "      <td>38</td>\n",
       "      <td>0.0</td>\n",
       "    </tr>\n",
       "    <tr>\n",
       "      <th>124997</th>\n",
       "      <td>CS8731</td>\n",
       "      <td>28-Nov-14</td>\n",
       "      <td>42</td>\n",
       "      <td>0.0</td>\n",
       "    </tr>\n",
       "    <tr>\n",
       "      <th>124998</th>\n",
       "      <td>CS8133</td>\n",
       "      <td>14-Dec-13</td>\n",
       "      <td>13</td>\n",
       "      <td>0.0</td>\n",
       "    </tr>\n",
       "    <tr>\n",
       "      <th>124999</th>\n",
       "      <td>CS7996</td>\n",
       "      <td>13-Dec-14</td>\n",
       "      <td>36</td>\n",
       "      <td>0.0</td>\n",
       "    </tr>\n",
       "  </tbody>\n",
       "</table>\n",
       "<p>125000 rows × 4 columns</p>\n",
       "</div>"
      ],
      "text/plain": [
       "       customer_id trans_date  tran_amount  response\n",
       "0           CS5295  11-Feb-13           35       1.0\n",
       "1           CS4768  15-Mar-15           39       1.0\n",
       "2           CS2122  26-Feb-13           52       0.0\n",
       "3           CS1217  16-Nov-11           99       0.0\n",
       "4           CS1850  20-Nov-13           78       0.0\n",
       "...            ...        ...          ...       ...\n",
       "124995      CS8433  26-Jun-11           64       0.0\n",
       "124996      CS7232  19-Aug-14           38       0.0\n",
       "124997      CS8731  28-Nov-14           42       0.0\n",
       "124998      CS8133  14-Dec-13           13       0.0\n",
       "124999      CS7996  13-Dec-14           36       0.0\n",
       "\n",
       "[125000 rows x 4 columns]"
      ]
     },
     "execution_count": 4,
     "metadata": {},
     "output_type": "execute_result"
    }
   ],
   "source": [
    "df = trans.merge(response,on = 'customer_id',how = 'left')\n",
    "df"
   ]
  },
  {
   "cell_type": "code",
   "execution_count": 5,
   "id": "c4c8403a-7a45-4143-b3c1-6e1f63a34298",
   "metadata": {},
   "outputs": [
    {
     "data": {
      "text/plain": [
       "customer_id     object\n",
       "trans_date      object\n",
       "tran_amount      int64\n",
       "response       float64\n",
       "dtype: object"
      ]
     },
     "execution_count": 5,
     "metadata": {},
     "output_type": "execute_result"
    }
   ],
   "source": [
    "# Features\n",
    "df.dtypes"
   ]
  },
  {
   "cell_type": "code",
   "execution_count": 6,
   "id": "3db780ee-4fc4-4163-aaec-1b9e102fe30d",
   "metadata": {},
   "outputs": [
    {
     "data": {
      "text/plain": [
       "(125000, 4)"
      ]
     },
     "execution_count": 6,
     "metadata": {},
     "output_type": "execute_result"
    }
   ],
   "source": [
    "df.shape"
   ]
  },
  {
   "cell_type": "code",
   "execution_count": 7,
   "id": "e51a8f1f-7770-4efd-b59a-3e37712f2de5",
   "metadata": {},
   "outputs": [
    {
     "data": {
      "text/html": [
       "<div>\n",
       "<style scoped>\n",
       "    .dataframe tbody tr th:only-of-type {\n",
       "        vertical-align: middle;\n",
       "    }\n",
       "\n",
       "    .dataframe tbody tr th {\n",
       "        vertical-align: top;\n",
       "    }\n",
       "\n",
       "    .dataframe thead th {\n",
       "        text-align: right;\n",
       "    }\n",
       "</style>\n",
       "<table border=\"1\" class=\"dataframe\">\n",
       "  <thead>\n",
       "    <tr style=\"text-align: right;\">\n",
       "      <th></th>\n",
       "      <th>customer_id</th>\n",
       "      <th>trans_date</th>\n",
       "      <th>tran_amount</th>\n",
       "      <th>response</th>\n",
       "    </tr>\n",
       "  </thead>\n",
       "  <tbody>\n",
       "    <tr>\n",
       "      <th>0</th>\n",
       "      <td>CS5295</td>\n",
       "      <td>11-Feb-13</td>\n",
       "      <td>35</td>\n",
       "      <td>1.0</td>\n",
       "    </tr>\n",
       "    <tr>\n",
       "      <th>1</th>\n",
       "      <td>CS4768</td>\n",
       "      <td>15-Mar-15</td>\n",
       "      <td>39</td>\n",
       "      <td>1.0</td>\n",
       "    </tr>\n",
       "    <tr>\n",
       "      <th>2</th>\n",
       "      <td>CS2122</td>\n",
       "      <td>26-Feb-13</td>\n",
       "      <td>52</td>\n",
       "      <td>0.0</td>\n",
       "    </tr>\n",
       "    <tr>\n",
       "      <th>3</th>\n",
       "      <td>CS1217</td>\n",
       "      <td>16-Nov-11</td>\n",
       "      <td>99</td>\n",
       "      <td>0.0</td>\n",
       "    </tr>\n",
       "    <tr>\n",
       "      <th>4</th>\n",
       "      <td>CS1850</td>\n",
       "      <td>20-Nov-13</td>\n",
       "      <td>78</td>\n",
       "      <td>0.0</td>\n",
       "    </tr>\n",
       "  </tbody>\n",
       "</table>\n",
       "</div>"
      ],
      "text/plain": [
       "  customer_id trans_date  tran_amount  response\n",
       "0      CS5295  11-Feb-13           35       1.0\n",
       "1      CS4768  15-Mar-15           39       1.0\n",
       "2      CS2122  26-Feb-13           52       0.0\n",
       "3      CS1217  16-Nov-11           99       0.0\n",
       "4      CS1850  20-Nov-13           78       0.0"
      ]
     },
     "execution_count": 7,
     "metadata": {},
     "output_type": "execute_result"
    }
   ],
   "source": [
    "df.head()"
   ]
  },
  {
   "cell_type": "code",
   "execution_count": 8,
   "id": "c617f178-4b13-4303-b3d4-6156ad72a61f",
   "metadata": {},
   "outputs": [
    {
     "data": {
      "text/html": [
       "<div>\n",
       "<style scoped>\n",
       "    .dataframe tbody tr th:only-of-type {\n",
       "        vertical-align: middle;\n",
       "    }\n",
       "\n",
       "    .dataframe tbody tr th {\n",
       "        vertical-align: top;\n",
       "    }\n",
       "\n",
       "    .dataframe thead th {\n",
       "        text-align: right;\n",
       "    }\n",
       "</style>\n",
       "<table border=\"1\" class=\"dataframe\">\n",
       "  <thead>\n",
       "    <tr style=\"text-align: right;\">\n",
       "      <th></th>\n",
       "      <th>customer_id</th>\n",
       "      <th>trans_date</th>\n",
       "      <th>tran_amount</th>\n",
       "      <th>response</th>\n",
       "    </tr>\n",
       "  </thead>\n",
       "  <tbody>\n",
       "    <tr>\n",
       "      <th>124995</th>\n",
       "      <td>CS8433</td>\n",
       "      <td>26-Jun-11</td>\n",
       "      <td>64</td>\n",
       "      <td>0.0</td>\n",
       "    </tr>\n",
       "    <tr>\n",
       "      <th>124996</th>\n",
       "      <td>CS7232</td>\n",
       "      <td>19-Aug-14</td>\n",
       "      <td>38</td>\n",
       "      <td>0.0</td>\n",
       "    </tr>\n",
       "    <tr>\n",
       "      <th>124997</th>\n",
       "      <td>CS8731</td>\n",
       "      <td>28-Nov-14</td>\n",
       "      <td>42</td>\n",
       "      <td>0.0</td>\n",
       "    </tr>\n",
       "    <tr>\n",
       "      <th>124998</th>\n",
       "      <td>CS8133</td>\n",
       "      <td>14-Dec-13</td>\n",
       "      <td>13</td>\n",
       "      <td>0.0</td>\n",
       "    </tr>\n",
       "    <tr>\n",
       "      <th>124999</th>\n",
       "      <td>CS7996</td>\n",
       "      <td>13-Dec-14</td>\n",
       "      <td>36</td>\n",
       "      <td>0.0</td>\n",
       "    </tr>\n",
       "  </tbody>\n",
       "</table>\n",
       "</div>"
      ],
      "text/plain": [
       "       customer_id trans_date  tran_amount  response\n",
       "124995      CS8433  26-Jun-11           64       0.0\n",
       "124996      CS7232  19-Aug-14           38       0.0\n",
       "124997      CS8731  28-Nov-14           42       0.0\n",
       "124998      CS8133  14-Dec-13           13       0.0\n",
       "124999      CS7996  13-Dec-14           36       0.0"
      ]
     },
     "execution_count": 8,
     "metadata": {},
     "output_type": "execute_result"
    }
   ],
   "source": [
    "df.tail()"
   ]
  },
  {
   "cell_type": "code",
   "execution_count": 9,
   "id": "471ac810-5ddb-4b5f-ae96-6ff998703203",
   "metadata": {},
   "outputs": [
    {
     "data": {
      "text/html": [
       "<div>\n",
       "<style scoped>\n",
       "    .dataframe tbody tr th:only-of-type {\n",
       "        vertical-align: middle;\n",
       "    }\n",
       "\n",
       "    .dataframe tbody tr th {\n",
       "        vertical-align: top;\n",
       "    }\n",
       "\n",
       "    .dataframe thead th {\n",
       "        text-align: right;\n",
       "    }\n",
       "</style>\n",
       "<table border=\"1\" class=\"dataframe\">\n",
       "  <thead>\n",
       "    <tr style=\"text-align: right;\">\n",
       "      <th></th>\n",
       "      <th>tran_amount</th>\n",
       "      <th>response</th>\n",
       "    </tr>\n",
       "  </thead>\n",
       "  <tbody>\n",
       "    <tr>\n",
       "      <th>count</th>\n",
       "      <td>125000.000000</td>\n",
       "      <td>124969.000000</td>\n",
       "    </tr>\n",
       "    <tr>\n",
       "      <th>mean</th>\n",
       "      <td>64.991912</td>\n",
       "      <td>0.110763</td>\n",
       "    </tr>\n",
       "    <tr>\n",
       "      <th>std</th>\n",
       "      <td>22.860006</td>\n",
       "      <td>0.313840</td>\n",
       "    </tr>\n",
       "    <tr>\n",
       "      <th>min</th>\n",
       "      <td>10.000000</td>\n",
       "      <td>0.000000</td>\n",
       "    </tr>\n",
       "    <tr>\n",
       "      <th>25%</th>\n",
       "      <td>47.000000</td>\n",
       "      <td>0.000000</td>\n",
       "    </tr>\n",
       "    <tr>\n",
       "      <th>50%</th>\n",
       "      <td>65.000000</td>\n",
       "      <td>0.000000</td>\n",
       "    </tr>\n",
       "    <tr>\n",
       "      <th>75%</th>\n",
       "      <td>83.000000</td>\n",
       "      <td>0.000000</td>\n",
       "    </tr>\n",
       "    <tr>\n",
       "      <th>max</th>\n",
       "      <td>105.000000</td>\n",
       "      <td>1.000000</td>\n",
       "    </tr>\n",
       "  </tbody>\n",
       "</table>\n",
       "</div>"
      ],
      "text/plain": [
       "         tran_amount       response\n",
       "count  125000.000000  124969.000000\n",
       "mean       64.991912       0.110763\n",
       "std        22.860006       0.313840\n",
       "min        10.000000       0.000000\n",
       "25%        47.000000       0.000000\n",
       "50%        65.000000       0.000000\n",
       "75%        83.000000       0.000000\n",
       "max       105.000000       1.000000"
      ]
     },
     "execution_count": 9,
     "metadata": {},
     "output_type": "execute_result"
    }
   ],
   "source": [
    "df.describe()"
   ]
  },
  {
   "cell_type": "code",
   "execution_count": 10,
   "id": "e7d1ffcd-f514-45aa-82fe-974934c2a879",
   "metadata": {},
   "outputs": [
    {
     "data": {
      "text/plain": [
       "customer_id     0\n",
       "trans_date      0\n",
       "tran_amount     0\n",
       "response       31\n",
       "dtype: int64"
      ]
     },
     "execution_count": 10,
     "metadata": {},
     "output_type": "execute_result"
    }
   ],
   "source": [
    "# Missing Values\n",
    "df.isnull().sum()"
   ]
  },
  {
   "cell_type": "code",
   "execution_count": 11,
   "id": "2385c578-485b-41dd-8054-5ce2f532ee5f",
   "metadata": {},
   "outputs": [
    {
     "data": {
      "text/html": [
       "<div>\n",
       "<style scoped>\n",
       "    .dataframe tbody tr th:only-of-type {\n",
       "        vertical-align: middle;\n",
       "    }\n",
       "\n",
       "    .dataframe tbody tr th {\n",
       "        vertical-align: top;\n",
       "    }\n",
       "\n",
       "    .dataframe thead th {\n",
       "        text-align: right;\n",
       "    }\n",
       "</style>\n",
       "<table border=\"1\" class=\"dataframe\">\n",
       "  <thead>\n",
       "    <tr style=\"text-align: right;\">\n",
       "      <th></th>\n",
       "      <th>customer_id</th>\n",
       "      <th>trans_date</th>\n",
       "      <th>tran_amount</th>\n",
       "      <th>response</th>\n",
       "    </tr>\n",
       "  </thead>\n",
       "  <tbody>\n",
       "    <tr>\n",
       "      <th>0</th>\n",
       "      <td>CS5295</td>\n",
       "      <td>11-Feb-13</td>\n",
       "      <td>35</td>\n",
       "      <td>1.0</td>\n",
       "    </tr>\n",
       "    <tr>\n",
       "      <th>1</th>\n",
       "      <td>CS4768</td>\n",
       "      <td>15-Mar-15</td>\n",
       "      <td>39</td>\n",
       "      <td>1.0</td>\n",
       "    </tr>\n",
       "    <tr>\n",
       "      <th>2</th>\n",
       "      <td>CS2122</td>\n",
       "      <td>26-Feb-13</td>\n",
       "      <td>52</td>\n",
       "      <td>0.0</td>\n",
       "    </tr>\n",
       "    <tr>\n",
       "      <th>3</th>\n",
       "      <td>CS1217</td>\n",
       "      <td>16-Nov-11</td>\n",
       "      <td>99</td>\n",
       "      <td>0.0</td>\n",
       "    </tr>\n",
       "    <tr>\n",
       "      <th>4</th>\n",
       "      <td>CS1850</td>\n",
       "      <td>20-Nov-13</td>\n",
       "      <td>78</td>\n",
       "      <td>0.0</td>\n",
       "    </tr>\n",
       "    <tr>\n",
       "      <th>...</th>\n",
       "      <td>...</td>\n",
       "      <td>...</td>\n",
       "      <td>...</td>\n",
       "      <td>...</td>\n",
       "    </tr>\n",
       "    <tr>\n",
       "      <th>124995</th>\n",
       "      <td>CS8433</td>\n",
       "      <td>26-Jun-11</td>\n",
       "      <td>64</td>\n",
       "      <td>0.0</td>\n",
       "    </tr>\n",
       "    <tr>\n",
       "      <th>124996</th>\n",
       "      <td>CS7232</td>\n",
       "      <td>19-Aug-14</td>\n",
       "      <td>38</td>\n",
       "      <td>0.0</td>\n",
       "    </tr>\n",
       "    <tr>\n",
       "      <th>124997</th>\n",
       "      <td>CS8731</td>\n",
       "      <td>28-Nov-14</td>\n",
       "      <td>42</td>\n",
       "      <td>0.0</td>\n",
       "    </tr>\n",
       "    <tr>\n",
       "      <th>124998</th>\n",
       "      <td>CS8133</td>\n",
       "      <td>14-Dec-13</td>\n",
       "      <td>13</td>\n",
       "      <td>0.0</td>\n",
       "    </tr>\n",
       "    <tr>\n",
       "      <th>124999</th>\n",
       "      <td>CS7996</td>\n",
       "      <td>13-Dec-14</td>\n",
       "      <td>36</td>\n",
       "      <td>0.0</td>\n",
       "    </tr>\n",
       "  </tbody>\n",
       "</table>\n",
       "<p>124969 rows × 4 columns</p>\n",
       "</div>"
      ],
      "text/plain": [
       "       customer_id trans_date  tran_amount  response\n",
       "0           CS5295  11-Feb-13           35       1.0\n",
       "1           CS4768  15-Mar-15           39       1.0\n",
       "2           CS2122  26-Feb-13           52       0.0\n",
       "3           CS1217  16-Nov-11           99       0.0\n",
       "4           CS1850  20-Nov-13           78       0.0\n",
       "...            ...        ...          ...       ...\n",
       "124995      CS8433  26-Jun-11           64       0.0\n",
       "124996      CS7232  19-Aug-14           38       0.0\n",
       "124997      CS8731  28-Nov-14           42       0.0\n",
       "124998      CS8133  14-Dec-13           13       0.0\n",
       "124999      CS7996  13-Dec-14           36       0.0\n",
       "\n",
       "[124969 rows x 4 columns]"
      ]
     },
     "execution_count": 11,
     "metadata": {},
     "output_type": "execute_result"
    }
   ],
   "source": [
    "df = df.dropna()\n",
    "df"
   ]
  },
  {
   "cell_type": "code",
   "execution_count": 12,
   "id": "999902e9-6d3d-4ba1-bd53-7387bf6df341",
   "metadata": {},
   "outputs": [
    {
     "name": "stderr",
     "output_type": "stream",
     "text": [
      "C:\\Users\\aleti\\AppData\\Local\\Temp\\ipykernel_3112\\143446696.py:2: UserWarning: Could not infer format, so each element will be parsed individually, falling back to `dateutil`. To ensure parsing is consistent and as-expected, please specify a format.\n",
      "  df['trans_date'] = pd.to_datetime(df['trans_date'])\n",
      "C:\\Users\\aleti\\AppData\\Local\\Temp\\ipykernel_3112\\143446696.py:2: SettingWithCopyWarning: \n",
      "A value is trying to be set on a copy of a slice from a DataFrame.\n",
      "Try using .loc[row_indexer,col_indexer] = value instead\n",
      "\n",
      "See the caveats in the documentation: https://pandas.pydata.org/pandas-docs/stable/user_guide/indexing.html#returning-a-view-versus-a-copy\n",
      "  df['trans_date'] = pd.to_datetime(df['trans_date'])\n"
     ]
    },
    {
     "data": {
      "text/html": [
       "<div>\n",
       "<style scoped>\n",
       "    .dataframe tbody tr th:only-of-type {\n",
       "        vertical-align: middle;\n",
       "    }\n",
       "\n",
       "    .dataframe tbody tr th {\n",
       "        vertical-align: top;\n",
       "    }\n",
       "\n",
       "    .dataframe thead th {\n",
       "        text-align: right;\n",
       "    }\n",
       "</style>\n",
       "<table border=\"1\" class=\"dataframe\">\n",
       "  <thead>\n",
       "    <tr style=\"text-align: right;\">\n",
       "      <th></th>\n",
       "      <th>customer_id</th>\n",
       "      <th>trans_date</th>\n",
       "      <th>tran_amount</th>\n",
       "      <th>response</th>\n",
       "    </tr>\n",
       "  </thead>\n",
       "  <tbody>\n",
       "    <tr>\n",
       "      <th>0</th>\n",
       "      <td>CS5295</td>\n",
       "      <td>2013-02-11</td>\n",
       "      <td>35</td>\n",
       "      <td>1.0</td>\n",
       "    </tr>\n",
       "    <tr>\n",
       "      <th>1</th>\n",
       "      <td>CS4768</td>\n",
       "      <td>2015-03-15</td>\n",
       "      <td>39</td>\n",
       "      <td>1.0</td>\n",
       "    </tr>\n",
       "    <tr>\n",
       "      <th>2</th>\n",
       "      <td>CS2122</td>\n",
       "      <td>2013-02-26</td>\n",
       "      <td>52</td>\n",
       "      <td>0.0</td>\n",
       "    </tr>\n",
       "    <tr>\n",
       "      <th>3</th>\n",
       "      <td>CS1217</td>\n",
       "      <td>2011-11-16</td>\n",
       "      <td>99</td>\n",
       "      <td>0.0</td>\n",
       "    </tr>\n",
       "    <tr>\n",
       "      <th>4</th>\n",
       "      <td>CS1850</td>\n",
       "      <td>2013-11-20</td>\n",
       "      <td>78</td>\n",
       "      <td>0.0</td>\n",
       "    </tr>\n",
       "    <tr>\n",
       "      <th>...</th>\n",
       "      <td>...</td>\n",
       "      <td>...</td>\n",
       "      <td>...</td>\n",
       "      <td>...</td>\n",
       "    </tr>\n",
       "    <tr>\n",
       "      <th>124995</th>\n",
       "      <td>CS8433</td>\n",
       "      <td>2011-06-26</td>\n",
       "      <td>64</td>\n",
       "      <td>0.0</td>\n",
       "    </tr>\n",
       "    <tr>\n",
       "      <th>124996</th>\n",
       "      <td>CS7232</td>\n",
       "      <td>2014-08-19</td>\n",
       "      <td>38</td>\n",
       "      <td>0.0</td>\n",
       "    </tr>\n",
       "    <tr>\n",
       "      <th>124997</th>\n",
       "      <td>CS8731</td>\n",
       "      <td>2014-11-28</td>\n",
       "      <td>42</td>\n",
       "      <td>0.0</td>\n",
       "    </tr>\n",
       "    <tr>\n",
       "      <th>124998</th>\n",
       "      <td>CS8133</td>\n",
       "      <td>2013-12-14</td>\n",
       "      <td>13</td>\n",
       "      <td>0.0</td>\n",
       "    </tr>\n",
       "    <tr>\n",
       "      <th>124999</th>\n",
       "      <td>CS7996</td>\n",
       "      <td>2014-12-13</td>\n",
       "      <td>36</td>\n",
       "      <td>0.0</td>\n",
       "    </tr>\n",
       "  </tbody>\n",
       "</table>\n",
       "<p>124969 rows × 4 columns</p>\n",
       "</div>"
      ],
      "text/plain": [
       "       customer_id trans_date  tran_amount  response\n",
       "0           CS5295 2013-02-11           35       1.0\n",
       "1           CS4768 2015-03-15           39       1.0\n",
       "2           CS2122 2013-02-26           52       0.0\n",
       "3           CS1217 2011-11-16           99       0.0\n",
       "4           CS1850 2013-11-20           78       0.0\n",
       "...            ...        ...          ...       ...\n",
       "124995      CS8433 2011-06-26           64       0.0\n",
       "124996      CS7232 2014-08-19           38       0.0\n",
       "124997      CS8731 2014-11-28           42       0.0\n",
       "124998      CS8133 2013-12-14           13       0.0\n",
       "124999      CS7996 2014-12-13           36       0.0\n",
       "\n",
       "[124969 rows x 4 columns]"
      ]
     },
     "execution_count": 12,
     "metadata": {},
     "output_type": "execute_result"
    }
   ],
   "source": [
    "# change dtypes\n",
    "df['trans_date'] = pd.to_datetime(df['trans_date'])\n",
    "df"
   ]
  },
  {
   "cell_type": "code",
   "execution_count": 13,
   "id": "cc33485f-89e1-404a-9e7a-974b935ef26e",
   "metadata": {},
   "outputs": [
    {
     "data": {
      "text/plain": [
       "{0.0, 1.0}"
      ]
     },
     "execution_count": 13,
     "metadata": {},
     "output_type": "execute_result"
    }
   ],
   "source": [
    "set(df['response'])"
   ]
  },
  {
   "cell_type": "code",
   "execution_count": 14,
   "id": "1ff2b190-98b4-4626-a1db-f6ef3d1b8d3e",
   "metadata": {},
   "outputs": [
    {
     "name": "stderr",
     "output_type": "stream",
     "text": [
      "C:\\Users\\aleti\\AppData\\Local\\Temp\\ipykernel_3112\\4004924076.py:1: SettingWithCopyWarning: \n",
      "A value is trying to be set on a copy of a slice from a DataFrame.\n",
      "Try using .loc[row_indexer,col_indexer] = value instead\n",
      "\n",
      "See the caveats in the documentation: https://pandas.pydata.org/pandas-docs/stable/user_guide/indexing.html#returning-a-view-versus-a-copy\n",
      "  df['response'] = df['response'].astype('int64')\n"
     ]
    },
    {
     "data": {
      "text/plain": [
       "0         1\n",
       "1         1\n",
       "2         0\n",
       "3         0\n",
       "4         0\n",
       "         ..\n",
       "124995    0\n",
       "124996    0\n",
       "124997    0\n",
       "124998    0\n",
       "124999    0\n",
       "Name: response, Length: 124969, dtype: int64"
      ]
     },
     "execution_count": 14,
     "metadata": {},
     "output_type": "execute_result"
    }
   ],
   "source": [
    "df['response'] = df['response'].astype('int64')\n",
    "df['response']"
   ]
  },
  {
   "cell_type": "code",
   "execution_count": 15,
   "id": "adf709b4-5095-42d2-930d-7c7f4b21c924",
   "metadata": {},
   "outputs": [
    {
     "data": {
      "text/plain": [
       "customer_id            object\n",
       "trans_date     datetime64[ns]\n",
       "tran_amount             int64\n",
       "response                int64\n",
       "dtype: object"
      ]
     },
     "execution_count": 15,
     "metadata": {},
     "output_type": "execute_result"
    }
   ],
   "source": [
    "df.dtypes"
   ]
  },
  {
   "cell_type": "code",
   "execution_count": 16,
   "id": "21af8a2e-b972-42e8-a959-fbe9502dde0b",
   "metadata": {},
   "outputs": [
    {
     "name": "stdout",
     "output_type": "stream",
     "text": [
      "[0         False\n",
      "1         False\n",
      "2         False\n",
      "3         False\n",
      "4         False\n",
      "          ...  \n",
      "124995    False\n",
      "124996    False\n",
      "124997    False\n",
      "124998    False\n",
      "124999    False\n",
      "Name: tran_amount, Length: 124969, dtype: bool]\n"
     ]
    }
   ],
   "source": [
    "# Check for outliers\n",
    "# z-score\n",
    "\n",
    "from scipy import stats\n",
    "import numpy as np\n",
    "\n",
    "# calc z-score\n",
    "z_scores = np.abs(stats.zscore(df['tran_amount']))\n",
    "\n",
    "# set a threshold\n",
    "threshold = 3\n",
    "\n",
    "outliers = z_scores > threshold\n",
    "\n",
    "print([outliers])"
   ]
  },
  {
   "cell_type": "code",
   "execution_count": 17,
   "id": "a840179d-f0bb-4a92-a57d-b508f9c0aff8",
   "metadata": {},
   "outputs": [
    {
     "name": "stdout",
     "output_type": "stream",
     "text": [
      "[0         False\n",
      "1         False\n",
      "2         False\n",
      "3         False\n",
      "4         False\n",
      "          ...  \n",
      "124995    False\n",
      "124996    False\n",
      "124997    False\n",
      "124998    False\n",
      "124999    False\n",
      "Name: response, Length: 124969, dtype: bool]\n"
     ]
    }
   ],
   "source": [
    "# calc z-score\n",
    "z_scores = np.abs(stats.zscore(df['response']))\n",
    "\n",
    "# set a threshold\n",
    "threshold = 3\n",
    "\n",
    "outliers = z_scores > threshold\n",
    "\n",
    "print([outliers])"
   ]
  },
  {
   "cell_type": "code",
   "execution_count": 18,
   "id": "09032526-3b76-4040-baa1-34c5d34e3dfb",
   "metadata": {},
   "outputs": [
    {
     "data": {
      "image/png": "[encoded data removed]",
      "text/plain": [
       "<Figure size 640x480 with 1 Axes>"
      ]
     },
     "metadata": {},
     "output_type": "display_data"
    }
   ],
   "source": [
    "import seaborn as sns\n",
    "import matplotlib.pyplot as plt\n",
    "\n",
    "sns.boxplot(x = df['response'])\n",
    "plt.show()"
   ]
  },
  {
   "cell_type": "code",
   "execution_count": 19,
   "id": "c1b63e1f-62ee-4721-8ac2-5a8bc34a83d3",
   "metadata": {},
   "outputs": [
    {
     "data": {
      "image/png": "[encoded data removed]",
      "text/plain": [
       "<Figure size 640x480 with 1 Axes>"
      ]
     },
     "metadata": {},
     "output_type": "display_data"
    }
   ],
   "source": [
    "sns.boxplot(x = df['tran_amount'])\n",
    "plt.show()"
   ]
  },
  {
   "cell_type": "code",
   "execution_count": 20,
   "id": "a85577a1-df8c-4f64-b9ca-2dd1a4c45ca1",
   "metadata": {},
   "outputs": [
    {
     "name": "stderr",
     "output_type": "stream",
     "text": [
      "C:\\Users\\aleti\\AppData\\Local\\Temp\\ipykernel_3112\\1954192183.py:2: SettingWithCopyWarning: \n",
      "A value is trying to be set on a copy of a slice from a DataFrame.\n",
      "Try using .loc[row_indexer,col_indexer] = value instead\n",
      "\n",
      "See the caveats in the documentation: https://pandas.pydata.org/pandas-docs/stable/user_guide/indexing.html#returning-a-view-versus-a-copy\n",
      "  df['month'] = df['trans_date'].dt.month\n"
     ]
    }
   ],
   "source": [
    "# Creating a new columns\n",
    "df['month'] = df['trans_date'].dt.month"
   ]
  },
  {
   "cell_type": "code",
   "execution_count": 21,
   "id": "149cb9f1-9f3e-4afb-9178-098ca667a79d",
   "metadata": {},
   "outputs": [
    {
     "data": {
      "text/html": [
       "<div>\n",
       "<style scoped>\n",
       "    .dataframe tbody tr th:only-of-type {\n",
       "        vertical-align: middle;\n",
       "    }\n",
       "\n",
       "    .dataframe tbody tr th {\n",
       "        vertical-align: top;\n",
       "    }\n",
       "\n",
       "    .dataframe thead th {\n",
       "        text-align: right;\n",
       "    }\n",
       "</style>\n",
       "<table border=\"1\" class=\"dataframe\">\n",
       "  <thead>\n",
       "    <tr style=\"text-align: right;\">\n",
       "      <th></th>\n",
       "      <th>customer_id</th>\n",
       "      <th>trans_date</th>\n",
       "      <th>tran_amount</th>\n",
       "      <th>response</th>\n",
       "      <th>month</th>\n",
       "    </tr>\n",
       "  </thead>\n",
       "  <tbody>\n",
       "    <tr>\n",
       "      <th>0</th>\n",
       "      <td>CS5295</td>\n",
       "      <td>2013-02-11</td>\n",
       "      <td>35</td>\n",
       "      <td>1</td>\n",
       "      <td>2</td>\n",
       "    </tr>\n",
       "    <tr>\n",
       "      <th>1</th>\n",
       "      <td>CS4768</td>\n",
       "      <td>2015-03-15</td>\n",
       "      <td>39</td>\n",
       "      <td>1</td>\n",
       "      <td>3</td>\n",
       "    </tr>\n",
       "    <tr>\n",
       "      <th>2</th>\n",
       "      <td>CS2122</td>\n",
       "      <td>2013-02-26</td>\n",
       "      <td>52</td>\n",
       "      <td>0</td>\n",
       "      <td>2</td>\n",
       "    </tr>\n",
       "    <tr>\n",
       "      <th>3</th>\n",
       "      <td>CS1217</td>\n",
       "      <td>2011-11-16</td>\n",
       "      <td>99</td>\n",
       "      <td>0</td>\n",
       "      <td>11</td>\n",
       "    </tr>\n",
       "    <tr>\n",
       "      <th>4</th>\n",
       "      <td>CS1850</td>\n",
       "      <td>2013-11-20</td>\n",
       "      <td>78</td>\n",
       "      <td>0</td>\n",
       "      <td>11</td>\n",
       "    </tr>\n",
       "    <tr>\n",
       "      <th>...</th>\n",
       "      <td>...</td>\n",
       "      <td>...</td>\n",
       "      <td>...</td>\n",
       "      <td>...</td>\n",
       "      <td>...</td>\n",
       "    </tr>\n",
       "    <tr>\n",
       "      <th>124995</th>\n",
       "      <td>CS8433</td>\n",
       "      <td>2011-06-26</td>\n",
       "      <td>64</td>\n",
       "      <td>0</td>\n",
       "      <td>6</td>\n",
       "    </tr>\n",
       "    <tr>\n",
       "      <th>124996</th>\n",
       "      <td>CS7232</td>\n",
       "      <td>2014-08-19</td>\n",
       "      <td>38</td>\n",
       "      <td>0</td>\n",
       "      <td>8</td>\n",
       "    </tr>\n",
       "    <tr>\n",
       "      <th>124997</th>\n",
       "      <td>CS8731</td>\n",
       "      <td>2014-11-28</td>\n",
       "      <td>42</td>\n",
       "      <td>0</td>\n",
       "      <td>11</td>\n",
       "    </tr>\n",
       "    <tr>\n",
       "      <th>124998</th>\n",
       "      <td>CS8133</td>\n",
       "      <td>2013-12-14</td>\n",
       "      <td>13</td>\n",
       "      <td>0</td>\n",
       "      <td>12</td>\n",
       "    </tr>\n",
       "    <tr>\n",
       "      <th>124999</th>\n",
       "      <td>CS7996</td>\n",
       "      <td>2014-12-13</td>\n",
       "      <td>36</td>\n",
       "      <td>0</td>\n",
       "      <td>12</td>\n",
       "    </tr>\n",
       "  </tbody>\n",
       "</table>\n",
       "<p>124969 rows × 5 columns</p>\n",
       "</div>"
      ],
      "text/plain": [
       "       customer_id trans_date  tran_amount  response  month\n",
       "0           CS5295 2013-02-11           35         1      2\n",
       "1           CS4768 2015-03-15           39         1      3\n",
       "2           CS2122 2013-02-26           52         0      2\n",
       "3           CS1217 2011-11-16           99         0     11\n",
       "4           CS1850 2013-11-20           78         0     11\n",
       "...            ...        ...          ...       ...    ...\n",
       "124995      CS8433 2011-06-26           64         0      6\n",
       "124996      CS7232 2014-08-19           38         0      8\n",
       "124997      CS8731 2014-11-28           42         0     11\n",
       "124998      CS8133 2013-12-14           13         0     12\n",
       "124999      CS7996 2014-12-13           36         0     12\n",
       "\n",
       "[124969 rows x 5 columns]"
      ]
     },
     "execution_count": 21,
     "metadata": {},
     "output_type": "execute_result"
    }
   ],
   "source": [
    "df"
   ]
  },
  {
   "cell_type": "code",
   "execution_count": 22,
   "id": "fdf1408f-311e-4b53-b11e-6a7ba7059f09",
   "metadata": {},
   "outputs": [],
   "source": [
    "# which 3 months have had the highest transaction amount\n",
    "monthly_sales = df.groupby('month')['tran_amount'].sum()\n",
    "monthly_sales = monthly_sales .sort_values(ascending = False).reset_index().head(3)"
   ]
  },
  {
   "cell_type": "code",
   "execution_count": 23,
   "id": "af8c5a8a-fd97-4dfa-b4bb-d9644365436d",
   "metadata": {},
   "outputs": [
    {
     "data": {
      "text/html": [
       "<div>\n",
       "<style scoped>\n",
       "    .dataframe tbody tr th:only-of-type {\n",
       "        vertical-align: middle;\n",
       "    }\n",
       "\n",
       "    .dataframe tbody tr th {\n",
       "        vertical-align: top;\n",
       "    }\n",
       "\n",
       "    .dataframe thead th {\n",
       "        text-align: right;\n",
       "    }\n",
       "</style>\n",
       "<table border=\"1\" class=\"dataframe\">\n",
       "  <thead>\n",
       "    <tr style=\"text-align: right;\">\n",
       "      <th></th>\n",
       "      <th>month</th>\n",
       "      <th>tran_amount</th>\n",
       "    </tr>\n",
       "  </thead>\n",
       "  <tbody>\n",
       "    <tr>\n",
       "      <th>0</th>\n",
       "      <td>8</td>\n",
       "      <td>726775</td>\n",
       "    </tr>\n",
       "    <tr>\n",
       "      <th>1</th>\n",
       "      <td>10</td>\n",
       "      <td>725058</td>\n",
       "    </tr>\n",
       "    <tr>\n",
       "      <th>2</th>\n",
       "      <td>1</td>\n",
       "      <td>724089</td>\n",
       "    </tr>\n",
       "  </tbody>\n",
       "</table>\n",
       "</div>"
      ],
      "text/plain": [
       "   month  tran_amount\n",
       "0      8       726775\n",
       "1     10       725058\n",
       "2      1       724089"
      ]
     },
     "execution_count": 23,
     "metadata": {},
     "output_type": "execute_result"
    }
   ],
   "source": [
    "monthly_sales"
   ]
  },
  {
   "cell_type": "code",
   "execution_count": 24,
   "id": "c1408d09-3ea9-49bd-9001-585ea5af2b4b",
   "metadata": {},
   "outputs": [
    {
     "data": {
      "text/html": [
       "<div>\n",
       "<style scoped>\n",
       "    .dataframe tbody tr th:only-of-type {\n",
       "        vertical-align: middle;\n",
       "    }\n",
       "\n",
       "    .dataframe tbody tr th {\n",
       "        vertical-align: top;\n",
       "    }\n",
       "\n",
       "    .dataframe thead th {\n",
       "        text-align: right;\n",
       "    }\n",
       "</style>\n",
       "<table border=\"1\" class=\"dataframe\">\n",
       "  <thead>\n",
       "    <tr style=\"text-align: right;\">\n",
       "      <th></th>\n",
       "      <th>customer_id</th>\n",
       "      <th>count</th>\n",
       "    </tr>\n",
       "  </thead>\n",
       "  <tbody>\n",
       "    <tr>\n",
       "      <th>0</th>\n",
       "      <td>CS4424</td>\n",
       "      <td>39</td>\n",
       "    </tr>\n",
       "    <tr>\n",
       "      <th>1</th>\n",
       "      <td>CS4320</td>\n",
       "      <td>38</td>\n",
       "    </tr>\n",
       "    <tr>\n",
       "      <th>2</th>\n",
       "      <td>CS3799</td>\n",
       "      <td>36</td>\n",
       "    </tr>\n",
       "    <tr>\n",
       "      <th>3</th>\n",
       "      <td>CS3805</td>\n",
       "      <td>35</td>\n",
       "    </tr>\n",
       "    <tr>\n",
       "      <th>4</th>\n",
       "      <td>CS1215</td>\n",
       "      <td>35</td>\n",
       "    </tr>\n",
       "    <tr>\n",
       "      <th>...</th>\n",
       "      <td>...</td>\n",
       "      <td>...</td>\n",
       "    </tr>\n",
       "    <tr>\n",
       "      <th>6879</th>\n",
       "      <td>CS7333</td>\n",
       "      <td>4</td>\n",
       "    </tr>\n",
       "    <tr>\n",
       "      <th>6880</th>\n",
       "      <td>CS7224</td>\n",
       "      <td>4</td>\n",
       "    </tr>\n",
       "    <tr>\n",
       "      <th>6881</th>\n",
       "      <td>CS7716</td>\n",
       "      <td>4</td>\n",
       "    </tr>\n",
       "    <tr>\n",
       "      <th>6882</th>\n",
       "      <td>CS8504</td>\n",
       "      <td>4</td>\n",
       "    </tr>\n",
       "    <tr>\n",
       "      <th>6883</th>\n",
       "      <td>CS8559</td>\n",
       "      <td>4</td>\n",
       "    </tr>\n",
       "  </tbody>\n",
       "</table>\n",
       "<p>6884 rows × 2 columns</p>\n",
       "</div>"
      ],
      "text/plain": [
       "     customer_id  count\n",
       "0         CS4424     39\n",
       "1         CS4320     38\n",
       "2         CS3799     36\n",
       "3         CS3805     35\n",
       "4         CS1215     35\n",
       "...          ...    ...\n",
       "6879      CS7333      4\n",
       "6880      CS7224      4\n",
       "6881      CS7716      4\n",
       "6882      CS8504      4\n",
       "6883      CS8559      4\n",
       "\n",
       "[6884 rows x 2 columns]"
      ]
     },
     "execution_count": 24,
     "metadata": {},
     "output_type": "execute_result"
    }
   ],
   "source": [
    "# customers having highest number of orders\n",
    "customer_counts = df['customer_id'].value_counts().reset_index()\n",
    "customer_counts"
   ]
  },
  {
   "cell_type": "code",
   "execution_count": 25,
   "id": "e76addc7-f421-4611-8ce8-9b6faea83bcb",
   "metadata": {},
   "outputs": [
    {
     "name": "stderr",
     "output_type": "stream",
     "text": [
      "C:\\Users\\aleti\\AppData\\Local\\Temp\\ipykernel_3112\\2435076135.py:1: UserWarning: Pandas doesn't allow columns to be created via a new attribute name - see https://pandas.pydata.org/pandas-docs/stable/indexing.html#attribute-access\n",
      "  customer_counts.column = ['customer_id','count']\n"
     ]
    },
    {
     "data": {
      "text/html": [
       "<div>\n",
       "<style scoped>\n",
       "    .dataframe tbody tr th:only-of-type {\n",
       "        vertical-align: middle;\n",
       "    }\n",
       "\n",
       "    .dataframe tbody tr th {\n",
       "        vertical-align: top;\n",
       "    }\n",
       "\n",
       "    .dataframe thead th {\n",
       "        text-align: right;\n",
       "    }\n",
       "</style>\n",
       "<table border=\"1\" class=\"dataframe\">\n",
       "  <thead>\n",
       "    <tr style=\"text-align: right;\">\n",
       "      <th></th>\n",
       "      <th>customer_id</th>\n",
       "      <th>count</th>\n",
       "    </tr>\n",
       "  </thead>\n",
       "  <tbody>\n",
       "    <tr>\n",
       "      <th>0</th>\n",
       "      <td>CS4424</td>\n",
       "      <td>39</td>\n",
       "    </tr>\n",
       "    <tr>\n",
       "      <th>1</th>\n",
       "      <td>CS4320</td>\n",
       "      <td>38</td>\n",
       "    </tr>\n",
       "    <tr>\n",
       "      <th>2</th>\n",
       "      <td>CS3799</td>\n",
       "      <td>36</td>\n",
       "    </tr>\n",
       "    <tr>\n",
       "      <th>4</th>\n",
       "      <td>CS1215</td>\n",
       "      <td>35</td>\n",
       "    </tr>\n",
       "    <tr>\n",
       "      <th>3</th>\n",
       "      <td>CS3805</td>\n",
       "      <td>35</td>\n",
       "    </tr>\n",
       "  </tbody>\n",
       "</table>\n",
       "</div>"
      ],
      "text/plain": [
       "  customer_id  count\n",
       "0      CS4424     39\n",
       "1      CS4320     38\n",
       "2      CS3799     36\n",
       "4      CS1215     35\n",
       "3      CS3805     35"
      ]
     },
     "execution_count": 25,
     "metadata": {},
     "output_type": "execute_result"
    }
   ],
   "source": [
    "customer_counts.column = ['customer_id','count']\n",
    "customer_counts\n",
    "\n",
    "top_5_counts = customer_counts.sort_values(by = 'count',ascending = False).head(5)\n",
    "top_5_counts"
   ]
  },
  {
   "cell_type": "code",
   "execution_count": 26,
   "id": "e174adf8-a23c-4479-a970-3213f214df2d",
   "metadata": {},
   "outputs": [
    {
     "data": {
      "text/plain": [
       "customer_id\n",
       "CS4424    39\n",
       "CS4320    38\n",
       "CS3799    36\n",
       "CS3805    35\n",
       "CS1215    35\n",
       "          ..\n",
       "CS7333     4\n",
       "CS7224     4\n",
       "CS7716     4\n",
       "CS8504     4\n",
       "CS8559     4\n",
       "Name: count, Length: 6884, dtype: int64"
      ]
     },
     "execution_count": 26,
     "metadata": {},
     "output_type": "execute_result"
    }
   ],
   "source": [
    "df['customer_id'].value_counts()"
   ]
  },
  {
   "cell_type": "code",
   "execution_count": 27,
   "id": "a6a8cccd-45c9-42db-85dd-3968a14c17a6",
   "metadata": {},
   "outputs": [
    {
     "data": {
      "text/plain": [
       "array(['CS5295', 'CS4768', 'CS2122', ..., 'CS8409', 'CS8479', 'CS8077'],\n",
       "      dtype=object)"
      ]
     },
     "execution_count": 27,
     "metadata": {},
     "output_type": "execute_result"
    }
   ],
   "source": [
    "df['customer_id'].unique()"
   ]
  },
  {
   "cell_type": "code",
   "execution_count": 28,
   "id": "99317261-42fc-45b8-bf25-ca4e863eb0fd",
   "metadata": {},
   "outputs": [
    {
     "data": {
      "text/plain": [
       "<Axes: xlabel='customer_id', ylabel='count'>"
      ]
     },
     "execution_count": 28,
     "metadata": {},
     "output_type": "execute_result"
    },
    {
     "data": {
      "image/png": "[encoded data removed]",
      "text/plain": [
       "<Figure size 640x480 with 1 Axes>"
      ]
     },
     "metadata": {},
     "output_type": "display_data"
    }
   ],
   "source": [
    "sns.barplot(x = 'customer_id',y = 'count',data = top_5_counts)"
   ]
  },
  {
   "cell_type": "code",
   "execution_count": 29,
   "id": "6986d7ca-f3c0-4f70-991a-07d72a9e57ef",
   "metadata": {},
   "outputs": [
    {
     "data": {
      "text/html": [
       "<div>\n",
       "<style scoped>\n",
       "    .dataframe tbody tr th:only-of-type {\n",
       "        vertical-align: middle;\n",
       "    }\n",
       "\n",
       "    .dataframe tbody tr th {\n",
       "        vertical-align: top;\n",
       "    }\n",
       "\n",
       "    .dataframe thead th {\n",
       "        text-align: right;\n",
       "    }\n",
       "</style>\n",
       "<table border=\"1\" class=\"dataframe\">\n",
       "  <thead>\n",
       "    <tr style=\"text-align: right;\">\n",
       "      <th></th>\n",
       "      <th>customer_id</th>\n",
       "      <th>tran_amount</th>\n",
       "    </tr>\n",
       "  </thead>\n",
       "  <tbody>\n",
       "    <tr>\n",
       "      <th>0</th>\n",
       "      <td>CS1112</td>\n",
       "      <td>1012</td>\n",
       "    </tr>\n",
       "    <tr>\n",
       "      <th>1</th>\n",
       "      <td>CS1113</td>\n",
       "      <td>1490</td>\n",
       "    </tr>\n",
       "    <tr>\n",
       "      <th>2</th>\n",
       "      <td>CS1114</td>\n",
       "      <td>1432</td>\n",
       "    </tr>\n",
       "    <tr>\n",
       "      <th>3</th>\n",
       "      <td>CS1115</td>\n",
       "      <td>1659</td>\n",
       "    </tr>\n",
       "    <tr>\n",
       "      <th>4</th>\n",
       "      <td>CS1116</td>\n",
       "      <td>857</td>\n",
       "    </tr>\n",
       "    <tr>\n",
       "      <th>...</th>\n",
       "      <td>...</td>\n",
       "      <td>...</td>\n",
       "    </tr>\n",
       "    <tr>\n",
       "      <th>6879</th>\n",
       "      <td>CS8996</td>\n",
       "      <td>582</td>\n",
       "    </tr>\n",
       "    <tr>\n",
       "      <th>6880</th>\n",
       "      <td>CS8997</td>\n",
       "      <td>543</td>\n",
       "    </tr>\n",
       "    <tr>\n",
       "      <th>6881</th>\n",
       "      <td>CS8998</td>\n",
       "      <td>624</td>\n",
       "    </tr>\n",
       "    <tr>\n",
       "      <th>6882</th>\n",
       "      <td>CS8999</td>\n",
       "      <td>383</td>\n",
       "    </tr>\n",
       "    <tr>\n",
       "      <th>6883</th>\n",
       "      <td>CS9000</td>\n",
       "      <td>533</td>\n",
       "    </tr>\n",
       "  </tbody>\n",
       "</table>\n",
       "<p>6884 rows × 2 columns</p>\n",
       "</div>"
      ],
      "text/plain": [
       "     customer_id  tran_amount\n",
       "0         CS1112         1012\n",
       "1         CS1113         1490\n",
       "2         CS1114         1432\n",
       "3         CS1115         1659\n",
       "4         CS1116          857\n",
       "...          ...          ...\n",
       "6879      CS8996          582\n",
       "6880      CS8997          543\n",
       "6881      CS8998          624\n",
       "6882      CS8999          383\n",
       "6883      CS9000          533\n",
       "\n",
       "[6884 rows x 2 columns]"
      ]
     },
     "execution_count": 29,
     "metadata": {},
     "output_type": "execute_result"
    }
   ],
   "source": [
    "customer_sales = df.groupby('customer_id')['tran_amount'].sum().reset_index()\n",
    "customer_sales"
   ]
  },
  {
   "cell_type": "code",
   "execution_count": 30,
   "id": "f8e4f119-a2fe-4f8d-b932-a1bff22fda22",
   "metadata": {},
   "outputs": [
    {
     "data": {
      "text/html": [
       "<div>\n",
       "<style scoped>\n",
       "    .dataframe tbody tr th:only-of-type {\n",
       "        vertical-align: middle;\n",
       "    }\n",
       "\n",
       "    .dataframe tbody tr th {\n",
       "        vertical-align: top;\n",
       "    }\n",
       "\n",
       "    .dataframe thead th {\n",
       "        text-align: right;\n",
       "    }\n",
       "</style>\n",
       "<table border=\"1\" class=\"dataframe\">\n",
       "  <thead>\n",
       "    <tr style=\"text-align: right;\">\n",
       "      <th></th>\n",
       "      <th>customer_id</th>\n",
       "      <th>tran_amount</th>\n",
       "    </tr>\n",
       "  </thead>\n",
       "  <tbody>\n",
       "    <tr>\n",
       "      <th>3312</th>\n",
       "      <td>CS4424</td>\n",
       "      <td>2933</td>\n",
       "    </tr>\n",
       "    <tr>\n",
       "      <th>3208</th>\n",
       "      <td>CS4320</td>\n",
       "      <td>2647</td>\n",
       "    </tr>\n",
       "    <tr>\n",
       "      <th>4640</th>\n",
       "      <td>CS5752</td>\n",
       "      <td>2612</td>\n",
       "    </tr>\n",
       "    <tr>\n",
       "      <th>3548</th>\n",
       "      <td>CS4660</td>\n",
       "      <td>2527</td>\n",
       "    </tr>\n",
       "    <tr>\n",
       "      <th>2687</th>\n",
       "      <td>CS3799</td>\n",
       "      <td>2513</td>\n",
       "    </tr>\n",
       "  </tbody>\n",
       "</table>\n",
       "</div>"
      ],
      "text/plain": [
       "     customer_id  tran_amount\n",
       "3312      CS4424         2933\n",
       "3208      CS4320         2647\n",
       "4640      CS5752         2612\n",
       "3548      CS4660         2527\n",
       "2687      CS3799         2513"
      ]
     },
     "execution_count": 30,
     "metadata": {},
     "output_type": "execute_result"
    }
   ],
   "source": [
    "top_5_sales = customer_sales.sort_values(by = 'tran_amount',ascending = False).head(5)\n",
    "top_5_sales"
   ]
  },
  {
   "cell_type": "code",
   "execution_count": 31,
   "id": "f9d8e549-46b6-4cfd-8c20-2bb4427d1f5a",
   "metadata": {},
   "outputs": [
    {
     "data": {
      "text/plain": [
       "<Axes: xlabel='customer_id', ylabel='tran_amount'>"
      ]
     },
     "execution_count": 31,
     "metadata": {},
     "output_type": "execute_result"
    },
    {
     "data": {
      "image/png": "[encoded data removed]",
      "text/plain": [
       "<Figure size 640x480 with 1 Axes>"
      ]
     },
     "metadata": {},
     "output_type": "display_data"
    }
   ],
   "source": [
    "sns.barplot(x = 'customer_id',y = 'tran_amount',data = top_5_sales)"
   ]
  },
  {
   "cell_type": "markdown",
   "id": "fdf4c1d9-2a6a-404e-a4f7-34352fbd0f1e",
   "metadata": {},
   "source": [
    "# Advanced Analytics"
   ]
  },
  {
   "cell_type": "markdown",
   "id": "82ad3d6f-7026-45a7-900c-d38df43b57e8",
   "metadata": {},
   "source": [
    "### Time Series Analysis"
   ]
  },
  {
   "cell_type": "code",
   "execution_count": 32,
   "id": "bc5520fd-3cdd-4ea1-96f8-fa81b46ca768",
   "metadata": {},
   "outputs": [
    {
     "name": "stderr",
     "output_type": "stream",
     "text": [
      "C:\\Users\\aleti\\AppData\\Local\\Temp\\ipykernel_3112\\3875964968.py:3: SettingWithCopyWarning: \n",
      "A value is trying to be set on a copy of a slice from a DataFrame.\n",
      "Try using .loc[row_indexer,col_indexer] = value instead\n",
      "\n",
      "See the caveats in the documentation: https://pandas.pydata.org/pandas-docs/stable/user_guide/indexing.html#returning-a-view-versus-a-copy\n",
      "  df['month_year'] = df['trans_date'].dt.to_period('M')\n"
     ]
    }
   ],
   "source": [
    "import matplotlib.dates as mdates\n",
    "\n",
    "df['month_year'] = df['trans_date'].dt.to_period('M')"
   ]
  },
  {
   "cell_type": "code",
   "execution_count": 33,
   "id": "d19d90b4-9827-4454-a6b0-2107c146a1ee",
   "metadata": {},
   "outputs": [
    {
     "data": {
      "text/html": [
       "<div>\n",
       "<style scoped>\n",
       "    .dataframe tbody tr th:only-of-type {\n",
       "        vertical-align: middle;\n",
       "    }\n",
       "\n",
       "    .dataframe tbody tr th {\n",
       "        vertical-align: top;\n",
       "    }\n",
       "\n",
       "    .dataframe thead th {\n",
       "        text-align: right;\n",
       "    }\n",
       "</style>\n",
       "<table border=\"1\" class=\"dataframe\">\n",
       "  <thead>\n",
       "    <tr style=\"text-align: right;\">\n",
       "      <th></th>\n",
       "      <th>customer_id</th>\n",
       "      <th>trans_date</th>\n",
       "      <th>tran_amount</th>\n",
       "      <th>response</th>\n",
       "      <th>month</th>\n",
       "      <th>month_year</th>\n",
       "    </tr>\n",
       "  </thead>\n",
       "  <tbody>\n",
       "    <tr>\n",
       "      <th>0</th>\n",
       "      <td>CS5295</td>\n",
       "      <td>2013-02-11</td>\n",
       "      <td>35</td>\n",
       "      <td>1</td>\n",
       "      <td>2</td>\n",
       "      <td>2013-02</td>\n",
       "    </tr>\n",
       "    <tr>\n",
       "      <th>1</th>\n",
       "      <td>CS4768</td>\n",
       "      <td>2015-03-15</td>\n",
       "      <td>39</td>\n",
       "      <td>1</td>\n",
       "      <td>3</td>\n",
       "      <td>2015-03</td>\n",
       "    </tr>\n",
       "    <tr>\n",
       "      <th>2</th>\n",
       "      <td>CS2122</td>\n",
       "      <td>2013-02-26</td>\n",
       "      <td>52</td>\n",
       "      <td>0</td>\n",
       "      <td>2</td>\n",
       "      <td>2013-02</td>\n",
       "    </tr>\n",
       "    <tr>\n",
       "      <th>3</th>\n",
       "      <td>CS1217</td>\n",
       "      <td>2011-11-16</td>\n",
       "      <td>99</td>\n",
       "      <td>0</td>\n",
       "      <td>11</td>\n",
       "      <td>2011-11</td>\n",
       "    </tr>\n",
       "    <tr>\n",
       "      <th>4</th>\n",
       "      <td>CS1850</td>\n",
       "      <td>2013-11-20</td>\n",
       "      <td>78</td>\n",
       "      <td>0</td>\n",
       "      <td>11</td>\n",
       "      <td>2013-11</td>\n",
       "    </tr>\n",
       "    <tr>\n",
       "      <th>...</th>\n",
       "      <td>...</td>\n",
       "      <td>...</td>\n",
       "      <td>...</td>\n",
       "      <td>...</td>\n",
       "      <td>...</td>\n",
       "      <td>...</td>\n",
       "    </tr>\n",
       "    <tr>\n",
       "      <th>124995</th>\n",
       "      <td>CS8433</td>\n",
       "      <td>2011-06-26</td>\n",
       "      <td>64</td>\n",
       "      <td>0</td>\n",
       "      <td>6</td>\n",
       "      <td>2011-06</td>\n",
       "    </tr>\n",
       "    <tr>\n",
       "      <th>124996</th>\n",
       "      <td>CS7232</td>\n",
       "      <td>2014-08-19</td>\n",
       "      <td>38</td>\n",
       "      <td>0</td>\n",
       "      <td>8</td>\n",
       "      <td>2014-08</td>\n",
       "    </tr>\n",
       "    <tr>\n",
       "      <th>124997</th>\n",
       "      <td>CS8731</td>\n",
       "      <td>2014-11-28</td>\n",
       "      <td>42</td>\n",
       "      <td>0</td>\n",
       "      <td>11</td>\n",
       "      <td>2014-11</td>\n",
       "    </tr>\n",
       "    <tr>\n",
       "      <th>124998</th>\n",
       "      <td>CS8133</td>\n",
       "      <td>2013-12-14</td>\n",
       "      <td>13</td>\n",
       "      <td>0</td>\n",
       "      <td>12</td>\n",
       "      <td>2013-12</td>\n",
       "    </tr>\n",
       "    <tr>\n",
       "      <th>124999</th>\n",
       "      <td>CS7996</td>\n",
       "      <td>2014-12-13</td>\n",
       "      <td>36</td>\n",
       "      <td>0</td>\n",
       "      <td>12</td>\n",
       "      <td>2014-12</td>\n",
       "    </tr>\n",
       "  </tbody>\n",
       "</table>\n",
       "<p>124969 rows × 6 columns</p>\n",
       "</div>"
      ],
      "text/plain": [
       "       customer_id trans_date  tran_amount  response  month month_year\n",
       "0           CS5295 2013-02-11           35         1      2    2013-02\n",
       "1           CS4768 2015-03-15           39         1      3    2015-03\n",
       "2           CS2122 2013-02-26           52         0      2    2013-02\n",
       "3           CS1217 2011-11-16           99         0     11    2011-11\n",
       "4           CS1850 2013-11-20           78         0     11    2013-11\n",
       "...            ...        ...          ...       ...    ...        ...\n",
       "124995      CS8433 2011-06-26           64         0      6    2011-06\n",
       "124996      CS7232 2014-08-19           38         0      8    2014-08\n",
       "124997      CS8731 2014-11-28           42         0     11    2014-11\n",
       "124998      CS8133 2013-12-14           13         0     12    2013-12\n",
       "124999      CS7996 2014-12-13           36         0     12    2014-12\n",
       "\n",
       "[124969 rows x 6 columns]"
      ]
     },
     "execution_count": 33,
     "metadata": {},
     "output_type": "execute_result"
    }
   ],
   "source": [
    "df"
   ]
  },
  {
   "cell_type": "code",
   "execution_count": 34,
   "id": "fdc25dbf-208b-4677-b578-efc940779e83",
   "metadata": {},
   "outputs": [
    {
     "data": {
      "image/png": "[encoded data removed]",
      "text/plain": [
       "<Figure size 1200x600 with 1 Axes>"
      ]
     },
     "metadata": {},
     "output_type": "display_data"
    }
   ],
   "source": [
    "monthly_sales = df.groupby(df['month_year'])['tran_amount'].sum()\n",
    "\n",
    "monthly_sales.index = monthly_sales.index.to_timestamp()\n",
    "\n",
    "plt.figure(figsize =(12,6))\n",
    "plt.plot(monthly_sales.index,monthly_sales.values)\n",
    "\n",
    "plt.gca().xaxis.set_major_formatter(mdates.DateFormatter('%Y,%m'))\n",
    "plt.gca().xaxis.set_major_locator(mdates.MonthLocator(interval = 6))\n",
    "plt.xlabel('Month-Year')\n",
    "plt.ylabel('Sales')\n",
    "plt.title('Monthly Sales')\n",
    "plt.xticks(rotation = 45)\n",
    "plt.tight_layout()\n",
    "plt.show()"
   ]
  },
  {
   "cell_type": "code",
   "execution_count": 57,
   "id": "68768452-3cba-411c-9a5a-c0619f64fce1",
   "metadata": {},
   "outputs": [
    {
     "data": {
      "text/plain": [
       "month_year\n",
       "2011-05     98901\n",
       "2011-06    174527\n",
       "2011-07    178038\n",
       "2011-08    188605\n",
       "2011-09    169173\n",
       "2011-10    182613\n",
       "2011-11    166830\n",
       "2011-12    181326\n",
       "2012-01    177969\n",
       "2012-02    170135\n",
       "2012-03    180453\n",
       "2012-04    167955\n",
       "2012-05    178880\n",
       "2012-06    172933\n",
       "2012-07    178964\n",
       "2012-08    179164\n",
       "2012-09    174813\n",
       "2012-10    181621\n",
       "2012-11    178998\n",
       "2012-12    173657\n",
       "2013-01    181729\n",
       "2013-02    160233\n",
       "2013-03    181389\n",
       "2013-04    173642\n",
       "2013-05    185826\n",
       "2013-06    176813\n",
       "2013-07    180983\n",
       "2013-08    180031\n",
       "2013-09    176830\n",
       "2013-10    181521\n",
       "2013-11    177341\n",
       "2013-12    180802\n",
       "2014-01    184554\n",
       "2014-02    154151\n",
       "2014-03    179804\n",
       "2014-04    174149\n",
       "2014-05    169555\n",
       "2014-06    172741\n",
       "2014-07    179026\n",
       "2014-08    178975\n",
       "2014-09    173385\n",
       "2014-10    179303\n",
       "2014-11    174855\n",
       "2014-12    174010\n",
       "2015-01    179837\n",
       "2015-02    160509\n",
       "2015-03     94829\n",
       "Freq: M, Name: tran_amount, dtype: int64"
      ]
     },
     "execution_count": 57,
     "metadata": {},
     "output_type": "execute_result"
    }
   ],
   "source": [
    "df.groupby('month_year')['tran_amount'].sum()"
   ]
  },
  {
   "cell_type": "markdown",
   "id": "860d726f-8a6b-4542-9a9a-1c8137edd2e6",
   "metadata": {},
   "source": [
    "### Cohort Segmentation"
   ]
  },
  {
   "cell_type": "code",
   "execution_count": 36,
   "id": "d83165ac-50f1-4a69-b8fc-46c5a00919f7",
   "metadata": {},
   "outputs": [],
   "source": [
    "# Recency\n",
    "recency = df.groupby('customer_id')['trans_date'].max()\n",
    "\n",
    "# Frequency\n",
    "frequency = df.groupby('customer_id')['trans_date'].count()\n",
    "\n",
    "#Monetory\n",
    "monetary = df.groupby('customer_id')['tran_amount'].sum()\n",
    "\n",
    "# Combine\n",
    "rfm = pd.DataFrame({'recency': recency,'frequency': frequency,'monetary':monetary})"
   ]
  },
  {
   "cell_type": "code",
   "execution_count": 37,
   "id": "c76aa127-6ac1-46e4-af54-863b77279bf8",
   "metadata": {},
   "outputs": [
    {
     "data": {
      "text/html": [
       "<div>\n",
       "<style scoped>\n",
       "    .dataframe tbody tr th:only-of-type {\n",
       "        vertical-align: middle;\n",
       "    }\n",
       "\n",
       "    .dataframe tbody tr th {\n",
       "        vertical-align: top;\n",
       "    }\n",
       "\n",
       "    .dataframe thead th {\n",
       "        text-align: right;\n",
       "    }\n",
       "</style>\n",
       "<table border=\"1\" class=\"dataframe\">\n",
       "  <thead>\n",
       "    <tr style=\"text-align: right;\">\n",
       "      <th></th>\n",
       "      <th>recency</th>\n",
       "      <th>frequency</th>\n",
       "      <th>monetary</th>\n",
       "    </tr>\n",
       "    <tr>\n",
       "      <th>customer_id</th>\n",
       "      <th></th>\n",
       "      <th></th>\n",
       "      <th></th>\n",
       "    </tr>\n",
       "  </thead>\n",
       "  <tbody>\n",
       "    <tr>\n",
       "      <th>CS1112</th>\n",
       "      <td>2015-01-14</td>\n",
       "      <td>15</td>\n",
       "      <td>1012</td>\n",
       "    </tr>\n",
       "    <tr>\n",
       "      <th>CS1113</th>\n",
       "      <td>2015-02-09</td>\n",
       "      <td>20</td>\n",
       "      <td>1490</td>\n",
       "    </tr>\n",
       "    <tr>\n",
       "      <th>CS1114</th>\n",
       "      <td>2015-02-12</td>\n",
       "      <td>19</td>\n",
       "      <td>1432</td>\n",
       "    </tr>\n",
       "    <tr>\n",
       "      <th>CS1115</th>\n",
       "      <td>2015-03-05</td>\n",
       "      <td>22</td>\n",
       "      <td>1659</td>\n",
       "    </tr>\n",
       "    <tr>\n",
       "      <th>CS1116</th>\n",
       "      <td>2014-08-25</td>\n",
       "      <td>13</td>\n",
       "      <td>857</td>\n",
       "    </tr>\n",
       "    <tr>\n",
       "      <th>...</th>\n",
       "      <td>...</td>\n",
       "      <td>...</td>\n",
       "      <td>...</td>\n",
       "    </tr>\n",
       "    <tr>\n",
       "      <th>CS8996</th>\n",
       "      <td>2014-12-09</td>\n",
       "      <td>13</td>\n",
       "      <td>582</td>\n",
       "    </tr>\n",
       "    <tr>\n",
       "      <th>CS8997</th>\n",
       "      <td>2014-06-28</td>\n",
       "      <td>14</td>\n",
       "      <td>543</td>\n",
       "    </tr>\n",
       "    <tr>\n",
       "      <th>CS8998</th>\n",
       "      <td>2014-12-22</td>\n",
       "      <td>13</td>\n",
       "      <td>624</td>\n",
       "    </tr>\n",
       "    <tr>\n",
       "      <th>CS8999</th>\n",
       "      <td>2014-07-02</td>\n",
       "      <td>12</td>\n",
       "      <td>383</td>\n",
       "    </tr>\n",
       "    <tr>\n",
       "      <th>CS9000</th>\n",
       "      <td>2015-02-28</td>\n",
       "      <td>13</td>\n",
       "      <td>533</td>\n",
       "    </tr>\n",
       "  </tbody>\n",
       "</table>\n",
       "<p>6884 rows × 3 columns</p>\n",
       "</div>"
      ],
      "text/plain": [
       "               recency  frequency  monetary\n",
       "customer_id                                \n",
       "CS1112      2015-01-14         15      1012\n",
       "CS1113      2015-02-09         20      1490\n",
       "CS1114      2015-02-12         19      1432\n",
       "CS1115      2015-03-05         22      1659\n",
       "CS1116      2014-08-25         13       857\n",
       "...                ...        ...       ...\n",
       "CS8996      2014-12-09         13       582\n",
       "CS8997      2014-06-28         14       543\n",
       "CS8998      2014-12-22         13       624\n",
       "CS8999      2014-07-02         12       383\n",
       "CS9000      2015-02-28         13       533\n",
       "\n",
       "[6884 rows x 3 columns]"
      ]
     },
     "execution_count": 37,
     "metadata": {},
     "output_type": "execute_result"
    }
   ],
   "source": [
    "rfm"
   ]
  },
  {
   "cell_type": "code",
   "execution_count": null,
   "id": "5ff70fa0-9baf-43d6-b4f4-b7e726d080ed",
   "metadata": {},
   "outputs": [],
   "source": []
  },
  {
   "cell_type": "code",
   "execution_count": null,
   "id": "b32488d8-ac2a-45d1-bc10-162af1639199",
   "metadata": {},
   "outputs": [],
   "source": []
  },
  {
   "cell_type": "code",
   "execution_count": 38,
   "id": "367b58af-5e4a-4762-ad61-b58880fed018",
   "metadata": {},
   "outputs": [],
   "source": [
    "# Customer Segmention\n",
    "def segment_customer(row):\n",
    "    if row['recency'].year > 2012 and row['frequency'] >= 15 and row['monetary'] > 1000:\n",
    "        return 'P0'\n",
    "    elif (2011<= row['recency'].year<2012) and (10<row['frequency']<15) and (500<=row['monetary']<=1000):\n",
    "        return 'P1'\n",
    "    else:\n",
    "        return 'P2'\n",
    "\n",
    "rfm['segment'] = rfm.apply(segment_customer,axis = 1)"
   ]
  },
  {
   "cell_type": "code",
   "execution_count": 39,
   "id": "1b1d0a9b-930e-4b64-b36a-67d82023bbe0",
   "metadata": {},
   "outputs": [
    {
     "data": {
      "text/html": [
       "<div>\n",
       "<style scoped>\n",
       "    .dataframe tbody tr th:only-of-type {\n",
       "        vertical-align: middle;\n",
       "    }\n",
       "\n",
       "    .dataframe tbody tr th {\n",
       "        vertical-align: top;\n",
       "    }\n",
       "\n",
       "    .dataframe thead th {\n",
       "        text-align: right;\n",
       "    }\n",
       "</style>\n",
       "<table border=\"1\" class=\"dataframe\">\n",
       "  <thead>\n",
       "    <tr style=\"text-align: right;\">\n",
       "      <th></th>\n",
       "      <th>recency</th>\n",
       "      <th>frequency</th>\n",
       "      <th>monetary</th>\n",
       "      <th>segment</th>\n",
       "    </tr>\n",
       "    <tr>\n",
       "      <th>customer_id</th>\n",
       "      <th></th>\n",
       "      <th></th>\n",
       "      <th></th>\n",
       "      <th></th>\n",
       "    </tr>\n",
       "  </thead>\n",
       "  <tbody>\n",
       "    <tr>\n",
       "      <th>CS1112</th>\n",
       "      <td>2015-01-14</td>\n",
       "      <td>15</td>\n",
       "      <td>1012</td>\n",
       "      <td>P0</td>\n",
       "    </tr>\n",
       "    <tr>\n",
       "      <th>CS1113</th>\n",
       "      <td>2015-02-09</td>\n",
       "      <td>20</td>\n",
       "      <td>1490</td>\n",
       "      <td>P0</td>\n",
       "    </tr>\n",
       "    <tr>\n",
       "      <th>CS1114</th>\n",
       "      <td>2015-02-12</td>\n",
       "      <td>19</td>\n",
       "      <td>1432</td>\n",
       "      <td>P0</td>\n",
       "    </tr>\n",
       "    <tr>\n",
       "      <th>CS1115</th>\n",
       "      <td>2015-03-05</td>\n",
       "      <td>22</td>\n",
       "      <td>1659</td>\n",
       "      <td>P0</td>\n",
       "    </tr>\n",
       "    <tr>\n",
       "      <th>CS1116</th>\n",
       "      <td>2014-08-25</td>\n",
       "      <td>13</td>\n",
       "      <td>857</td>\n",
       "      <td>P2</td>\n",
       "    </tr>\n",
       "    <tr>\n",
       "      <th>...</th>\n",
       "      <td>...</td>\n",
       "      <td>...</td>\n",
       "      <td>...</td>\n",
       "      <td>...</td>\n",
       "    </tr>\n",
       "    <tr>\n",
       "      <th>CS8996</th>\n",
       "      <td>2014-12-09</td>\n",
       "      <td>13</td>\n",
       "      <td>582</td>\n",
       "      <td>P2</td>\n",
       "    </tr>\n",
       "    <tr>\n",
       "      <th>CS8997</th>\n",
       "      <td>2014-06-28</td>\n",
       "      <td>14</td>\n",
       "      <td>543</td>\n",
       "      <td>P2</td>\n",
       "    </tr>\n",
       "    <tr>\n",
       "      <th>CS8998</th>\n",
       "      <td>2014-12-22</td>\n",
       "      <td>13</td>\n",
       "      <td>624</td>\n",
       "      <td>P2</td>\n",
       "    </tr>\n",
       "    <tr>\n",
       "      <th>CS8999</th>\n",
       "      <td>2014-07-02</td>\n",
       "      <td>12</td>\n",
       "      <td>383</td>\n",
       "      <td>P2</td>\n",
       "    </tr>\n",
       "    <tr>\n",
       "      <th>CS9000</th>\n",
       "      <td>2015-02-28</td>\n",
       "      <td>13</td>\n",
       "      <td>533</td>\n",
       "      <td>P2</td>\n",
       "    </tr>\n",
       "  </tbody>\n",
       "</table>\n",
       "<p>6884 rows × 4 columns</p>\n",
       "</div>"
      ],
      "text/plain": [
       "               recency  frequency  monetary segment\n",
       "customer_id                                        \n",
       "CS1112      2015-01-14         15      1012      P0\n",
       "CS1113      2015-02-09         20      1490      P0\n",
       "CS1114      2015-02-12         19      1432      P0\n",
       "CS1115      2015-03-05         22      1659      P0\n",
       "CS1116      2014-08-25         13       857      P2\n",
       "...                ...        ...       ...     ...\n",
       "CS8996      2014-12-09         13       582      P2\n",
       "CS8997      2014-06-28         14       543      P2\n",
       "CS8998      2014-12-22         13       624      P2\n",
       "CS8999      2014-07-02         12       383      P2\n",
       "CS9000      2015-02-28         13       533      P2\n",
       "\n",
       "[6884 rows x 4 columns]"
      ]
     },
     "execution_count": 39,
     "metadata": {},
     "output_type": "execute_result"
    }
   ],
   "source": [
    "rfm"
   ]
  },
  {
   "cell_type": "markdown",
   "id": "7536b962-e417-410a-86f2-b77e643090db",
   "metadata": {},
   "source": [
    "### Churn Analysis"
   ]
  },
  {
   "cell_type": "code",
   "execution_count": 40,
   "id": "ebf48e3a-9661-4e84-976e-de679d44cdef",
   "metadata": {},
   "outputs": [
    {
     "data": {
      "text/plain": [
       "<Axes: xlabel='response'>"
      ]
     },
     "execution_count": 40,
     "metadata": {},
     "output_type": "execute_result"
    },
    {
     "data": {
      "image/png": "[encoded data removed]",
      "text/plain": [
       "<Figure size 640x480 with 1 Axes>"
      ]
     },
     "metadata": {},
     "output_type": "display_data"
    }
   ],
   "source": [
    "# Count the number of churned and active customers\n",
    "churn_counts = df['response'].value_counts()\n",
    "\n",
    "# Plot\n",
    "churn_counts.plot(kind = 'bar')"
   ]
  },
  {
   "cell_type": "code",
   "execution_count": 41,
   "id": "d736177b-aa67-4e6c-97fd-c6b532f4712d",
   "metadata": {},
   "outputs": [
    {
     "data": {
      "text/plain": [
       "response\n",
       "0    111127\n",
       "1     13842\n",
       "Name: count, dtype: int64"
      ]
     },
     "execution_count": 41,
     "metadata": {},
     "output_type": "execute_result"
    }
   ],
   "source": [
    "df['response'].value_counts()"
   ]
  },
  {
   "cell_type": "code",
   "execution_count": 42,
   "id": "981bac6f-09bc-466f-90cc-27b2a4cb8226",
   "metadata": {},
   "outputs": [
    {
     "data": {
      "text/plain": [
       "month_year\n",
       "2011-05    152\n",
       "2011-06    264\n",
       "2011-07    284\n",
       "2011-08    291\n",
       "2011-09    252\n",
       "2011-10    256\n",
       "2011-11    251\n",
       "2011-12    282\n",
       "2012-01    292\n",
       "2012-02    250\n",
       "2012-03    296\n",
       "2012-04    294\n",
       "2012-05    277\n",
       "2012-06    264\n",
       "2012-07    274\n",
       "2012-08    292\n",
       "2012-09    273\n",
       "2012-10    289\n",
       "2012-11    257\n",
       "2012-12    238\n",
       "2013-01    276\n",
       "2013-02    229\n",
       "2013-03    292\n",
       "2013-04    351\n",
       "2013-05    346\n",
       "2013-06    356\n",
       "2013-07    317\n",
       "2013-08    354\n",
       "2013-09    360\n",
       "2013-10    349\n",
       "2013-11    334\n",
       "2013-12    339\n",
       "2014-01    356\n",
       "2014-02    301\n",
       "2014-03    373\n",
       "2014-04    316\n",
       "2014-05    324\n",
       "2014-06    324\n",
       "2014-07    363\n",
       "2014-08    380\n",
       "2014-09    343\n",
       "2014-10    333\n",
       "2014-11    310\n",
       "2014-12    320\n",
       "2015-01    269\n",
       "2015-02    204\n",
       "2015-03     95\n",
       "Freq: M, Name: response, dtype: int64"
      ]
     },
     "execution_count": 42,
     "metadata": {},
     "output_type": "execute_result"
    }
   ],
   "source": [
    "churn_counts_1 = df.groupby('month_year')['response'].sum()\n",
    "churn_counts_1"
   ]
  },
  {
   "cell_type": "code",
   "execution_count": 43,
   "id": "2c05cabe-26ed-4536-a350-ce99d2a02a49",
   "metadata": {},
   "outputs": [
    {
     "data": {
      "text/plain": [
       "<Axes: xlabel='month_year'>"
      ]
     },
     "execution_count": 43,
     "metadata": {},
     "output_type": "execute_result"
    },
    {
     "data": {
      "image/png": "[encoded data removed]",
      "text/plain": [
       "<Figure size 640x480 with 1 Axes>"
      ]
     },
     "metadata": {},
     "output_type": "display_data"
    }
   ],
   "source": [
    "# Plot\n",
    "churn_counts_1.plot(kind = 'line')"
   ]
  },
  {
   "cell_type": "code",
   "execution_count": 44,
   "id": "fe65a092-4a9b-4df4-9143-9eab5c438681",
   "metadata": {},
   "outputs": [
    {
     "data": {
      "text/plain": [
       "380"
      ]
     },
     "execution_count": 44,
     "metadata": {},
     "output_type": "execute_result"
    }
   ],
   "source": [
    "df.groupby('month_year')['response'].sum().max()"
   ]
  },
  {
   "cell_type": "code",
   "execution_count": 58,
   "id": "46e8fe21-e6df-42c5-9fa5-d50b3ed881cb",
   "metadata": {},
   "outputs": [
    {
     "data": {
      "text/plain": [
       "95"
      ]
     },
     "execution_count": 58,
     "metadata": {},
     "output_type": "execute_result"
    }
   ],
   "source": [
    "df.groupby('month_year')['response'].sum().min()"
   ]
  },
  {
   "cell_type": "code",
   "execution_count": 45,
   "id": "9abfb8ec-3da6-41ce-a026-e54af5299ddd",
   "metadata": {},
   "outputs": [
    {
     "data": {
      "text/plain": [
       "month_year\n",
       "2011-05     98901\n",
       "2011-06    174527\n",
       "2011-07    178038\n",
       "2011-08    188605\n",
       "2011-09    169173\n",
       "2011-10    182613\n",
       "2011-11    166830\n",
       "2011-12    181326\n",
       "2012-01    177969\n",
       "2012-02    170135\n",
       "2012-03    180453\n",
       "2012-04    167955\n",
       "2012-05    178880\n",
       "2012-06    172933\n",
       "2012-07    178964\n",
       "2012-08    179164\n",
       "2012-09    174813\n",
       "2012-10    181621\n",
       "2012-11    178998\n",
       "2012-12    173657\n",
       "2013-01    181729\n",
       "2013-02    160233\n",
       "2013-03    181389\n",
       "2013-04    173642\n",
       "2013-05    185826\n",
       "2013-06    176813\n",
       "2013-07    180983\n",
       "2013-08    180031\n",
       "2013-09    176830\n",
       "2013-10    181521\n",
       "2013-11    177341\n",
       "2013-12    180802\n",
       "2014-01    184554\n",
       "2014-02    154151\n",
       "2014-03    179804\n",
       "2014-04    174149\n",
       "2014-05    169555\n",
       "2014-06    172741\n",
       "2014-07    179026\n",
       "2014-08    178975\n",
       "2014-09    173385\n",
       "2014-10    179303\n",
       "2014-11    174855\n",
       "2014-12    174010\n",
       "2015-01    179837\n",
       "2015-02    160509\n",
       "2015-03     94829\n",
       "Freq: M, Name: tran_amount, dtype: int64"
      ]
     },
     "execution_count": 45,
     "metadata": {},
     "output_type": "execute_result"
    }
   ],
   "source": [
    "highest_transction = df.groupby('month_year')['tran_amount'].sum()\n",
    "highest_transction"
   ]
  },
  {
   "cell_type": "code",
   "execution_count": 46,
   "id": "f61bfe39-57ab-4adf-9ca3-7484141ded77",
   "metadata": {},
   "outputs": [
    {
     "data": {
      "text/plain": [
       "<Axes: xlabel='month_year'>"
      ]
     },
     "execution_count": 46,
     "metadata": {},
     "output_type": "execute_result"
    },
    {
     "data": {
      "image/png": "[encoded data removed]",
      "text/plain": [
       "<Figure size 640x480 with 1 Axes>"
      ]
     },
     "metadata": {},
     "output_type": "display_data"
    }
   ],
   "source": [
    "# Plot\n",
    "highest_transction.plot(kind = 'line')"
   ]
  },
  {
   "cell_type": "code",
   "execution_count": 47,
   "id": "26a93a9d-d60b-49f8-9de1-31f267d601d2",
   "metadata": {},
   "outputs": [
    {
     "data": {
      "text/plain": [
       "188605"
      ]
     },
     "execution_count": 47,
     "metadata": {},
     "output_type": "execute_result"
    }
   ],
   "source": [
    "df.groupby('month_year')['tran_amount'].sum().max()"
   ]
  },
  {
   "cell_type": "code",
   "execution_count": 48,
   "id": "33786a43-f5d6-417e-811b-af774d3a14b7",
   "metadata": {},
   "outputs": [
    {
     "data": {
      "text/plain": [
       "94829"
      ]
     },
     "execution_count": 48,
     "metadata": {},
     "output_type": "execute_result"
    }
   ],
   "source": [
    "df.groupby('month_year')['tran_amount'].sum().min()"
   ]
  },
  {
   "cell_type": "markdown",
   "id": "1eeecb2a-4d12-4860-a704-719089abad16",
   "metadata": {},
   "source": [
    "### Analyzing top customers"
   ]
  },
  {
   "cell_type": "code",
   "execution_count": 49,
   "id": "b125c753-6c91-4549-b5ca-a0608952de37",
   "metadata": {},
   "outputs": [
    {
     "data": {
      "text/plain": [
       "<Axes: xlabel='month_year'>"
      ]
     },
     "execution_count": 49,
     "metadata": {},
     "output_type": "execute_result"
    },
    {
     "data": {
      "image/png": "[encoded data removed]",
      "text/plain": [
       "<Figure size 640x480 with 1 Axes>"
      ]
     },
     "metadata": {},
     "output_type": "display_data"
    }
   ],
   "source": [
    "top_5_cus = monetary.sort_values(ascending = False).head(5).index\n",
    "top_customers_df = df[df['customer_id'].isin(top_5_cus)]\n",
    "\n",
    "top_customer_sales = top_customers_df.groupby(['customer_id','month_year'])['tran_amount'].sum().unstack(level = 0)\n",
    "top_customer_sales.plot(kind = 'line')"
   ]
  },
  {
   "cell_type": "code",
   "execution_count": 65,
   "id": "b1b899db-cfb2-4847-a879-6c4c89e1f337",
   "metadata": {},
   "outputs": [
    {
     "data": {
      "text/plain": [
       "36"
      ]
     },
     "execution_count": 65,
     "metadata": {},
     "output_type": "execute_result"
    }
   ],
   "source": [
    "top_customers_df.groupby(['customer_id','month_year'])['tran_amount'].sum().min()"
   ]
  },
  {
   "cell_type": "code",
   "execution_count": 50,
   "id": "f750048f-f91a-464b-8773-28560cdab5fe",
   "metadata": {},
   "outputs": [
    {
     "data": {
      "text/html": [
       "<div>\n",
       "<style scoped>\n",
       "    .dataframe tbody tr th:only-of-type {\n",
       "        vertical-align: middle;\n",
       "    }\n",
       "\n",
       "    .dataframe tbody tr th {\n",
       "        vertical-align: top;\n",
       "    }\n",
       "\n",
       "    .dataframe thead th {\n",
       "        text-align: right;\n",
       "    }\n",
       "</style>\n",
       "<table border=\"1\" class=\"dataframe\">\n",
       "  <thead>\n",
       "    <tr style=\"text-align: right;\">\n",
       "      <th></th>\n",
       "      <th>customer_id</th>\n",
       "      <th>trans_date</th>\n",
       "      <th>tran_amount</th>\n",
       "      <th>response</th>\n",
       "      <th>month</th>\n",
       "      <th>month_year</th>\n",
       "    </tr>\n",
       "  </thead>\n",
       "  <tbody>\n",
       "    <tr>\n",
       "      <th>0</th>\n",
       "      <td>CS5295</td>\n",
       "      <td>2013-02-11</td>\n",
       "      <td>35</td>\n",
       "      <td>1</td>\n",
       "      <td>2</td>\n",
       "      <td>2013-02</td>\n",
       "    </tr>\n",
       "    <tr>\n",
       "      <th>1</th>\n",
       "      <td>CS4768</td>\n",
       "      <td>2015-03-15</td>\n",
       "      <td>39</td>\n",
       "      <td>1</td>\n",
       "      <td>3</td>\n",
       "      <td>2015-03</td>\n",
       "    </tr>\n",
       "    <tr>\n",
       "      <th>2</th>\n",
       "      <td>CS2122</td>\n",
       "      <td>2013-02-26</td>\n",
       "      <td>52</td>\n",
       "      <td>0</td>\n",
       "      <td>2</td>\n",
       "      <td>2013-02</td>\n",
       "    </tr>\n",
       "    <tr>\n",
       "      <th>3</th>\n",
       "      <td>CS1217</td>\n",
       "      <td>2011-11-16</td>\n",
       "      <td>99</td>\n",
       "      <td>0</td>\n",
       "      <td>11</td>\n",
       "      <td>2011-11</td>\n",
       "    </tr>\n",
       "    <tr>\n",
       "      <th>4</th>\n",
       "      <td>CS1850</td>\n",
       "      <td>2013-11-20</td>\n",
       "      <td>78</td>\n",
       "      <td>0</td>\n",
       "      <td>11</td>\n",
       "      <td>2013-11</td>\n",
       "    </tr>\n",
       "    <tr>\n",
       "      <th>...</th>\n",
       "      <td>...</td>\n",
       "      <td>...</td>\n",
       "      <td>...</td>\n",
       "      <td>...</td>\n",
       "      <td>...</td>\n",
       "      <td>...</td>\n",
       "    </tr>\n",
       "    <tr>\n",
       "      <th>124995</th>\n",
       "      <td>CS8433</td>\n",
       "      <td>2011-06-26</td>\n",
       "      <td>64</td>\n",
       "      <td>0</td>\n",
       "      <td>6</td>\n",
       "      <td>2011-06</td>\n",
       "    </tr>\n",
       "    <tr>\n",
       "      <th>124996</th>\n",
       "      <td>CS7232</td>\n",
       "      <td>2014-08-19</td>\n",
       "      <td>38</td>\n",
       "      <td>0</td>\n",
       "      <td>8</td>\n",
       "      <td>2014-08</td>\n",
       "    </tr>\n",
       "    <tr>\n",
       "      <th>124997</th>\n",
       "      <td>CS8731</td>\n",
       "      <td>2014-11-28</td>\n",
       "      <td>42</td>\n",
       "      <td>0</td>\n",
       "      <td>11</td>\n",
       "      <td>2014-11</td>\n",
       "    </tr>\n",
       "    <tr>\n",
       "      <th>124998</th>\n",
       "      <td>CS8133</td>\n",
       "      <td>2013-12-14</td>\n",
       "      <td>13</td>\n",
       "      <td>0</td>\n",
       "      <td>12</td>\n",
       "      <td>2013-12</td>\n",
       "    </tr>\n",
       "    <tr>\n",
       "      <th>124999</th>\n",
       "      <td>CS7996</td>\n",
       "      <td>2014-12-13</td>\n",
       "      <td>36</td>\n",
       "      <td>0</td>\n",
       "      <td>12</td>\n",
       "      <td>2014-12</td>\n",
       "    </tr>\n",
       "  </tbody>\n",
       "</table>\n",
       "<p>124969 rows × 6 columns</p>\n",
       "</div>"
      ],
      "text/plain": [
       "       customer_id trans_date  tran_amount  response  month month_year\n",
       "0           CS5295 2013-02-11           35         1      2    2013-02\n",
       "1           CS4768 2015-03-15           39         1      3    2015-03\n",
       "2           CS2122 2013-02-26           52         0      2    2013-02\n",
       "3           CS1217 2011-11-16           99         0     11    2011-11\n",
       "4           CS1850 2013-11-20           78         0     11    2013-11\n",
       "...            ...        ...          ...       ...    ...        ...\n",
       "124995      CS8433 2011-06-26           64         0      6    2011-06\n",
       "124996      CS7232 2014-08-19           38         0      8    2014-08\n",
       "124997      CS8731 2014-11-28           42         0     11    2014-11\n",
       "124998      CS8133 2013-12-14           13         0     12    2013-12\n",
       "124999      CS7996 2014-12-13           36         0     12    2014-12\n",
       "\n",
       "[124969 rows x 6 columns]"
      ]
     },
     "execution_count": 50,
     "metadata": {},
     "output_type": "execute_result"
    }
   ],
   "source": [
    "df"
   ]
  },
  {
   "cell_type": "code",
   "execution_count": 51,
   "id": "6f9c44a1-a6d6-4e86-87b5-321f7d3a6b67",
   "metadata": {},
   "outputs": [
    {
     "data": {
      "text/html": [
       "<div>\n",
       "<style scoped>\n",
       "    .dataframe tbody tr th:only-of-type {\n",
       "        vertical-align: middle;\n",
       "    }\n",
       "\n",
       "    .dataframe tbody tr th {\n",
       "        vertical-align: top;\n",
       "    }\n",
       "\n",
       "    .dataframe thead th {\n",
       "        text-align: right;\n",
       "    }\n",
       "</style>\n",
       "<table border=\"1\" class=\"dataframe\">\n",
       "  <thead>\n",
       "    <tr style=\"text-align: right;\">\n",
       "      <th></th>\n",
       "      <th>recency</th>\n",
       "      <th>frequency</th>\n",
       "      <th>monetary</th>\n",
       "      <th>segment</th>\n",
       "    </tr>\n",
       "    <tr>\n",
       "      <th>customer_id</th>\n",
       "      <th></th>\n",
       "      <th></th>\n",
       "      <th></th>\n",
       "      <th></th>\n",
       "    </tr>\n",
       "  </thead>\n",
       "  <tbody>\n",
       "    <tr>\n",
       "      <th>CS1112</th>\n",
       "      <td>2015-01-14</td>\n",
       "      <td>15</td>\n",
       "      <td>1012</td>\n",
       "      <td>P0</td>\n",
       "    </tr>\n",
       "    <tr>\n",
       "      <th>CS1113</th>\n",
       "      <td>2015-02-09</td>\n",
       "      <td>20</td>\n",
       "      <td>1490</td>\n",
       "      <td>P0</td>\n",
       "    </tr>\n",
       "    <tr>\n",
       "      <th>CS1114</th>\n",
       "      <td>2015-02-12</td>\n",
       "      <td>19</td>\n",
       "      <td>1432</td>\n",
       "      <td>P0</td>\n",
       "    </tr>\n",
       "    <tr>\n",
       "      <th>CS1115</th>\n",
       "      <td>2015-03-05</td>\n",
       "      <td>22</td>\n",
       "      <td>1659</td>\n",
       "      <td>P0</td>\n",
       "    </tr>\n",
       "    <tr>\n",
       "      <th>CS1116</th>\n",
       "      <td>2014-08-25</td>\n",
       "      <td>13</td>\n",
       "      <td>857</td>\n",
       "      <td>P2</td>\n",
       "    </tr>\n",
       "    <tr>\n",
       "      <th>...</th>\n",
       "      <td>...</td>\n",
       "      <td>...</td>\n",
       "      <td>...</td>\n",
       "      <td>...</td>\n",
       "    </tr>\n",
       "    <tr>\n",
       "      <th>CS8996</th>\n",
       "      <td>2014-12-09</td>\n",
       "      <td>13</td>\n",
       "      <td>582</td>\n",
       "      <td>P2</td>\n",
       "    </tr>\n",
       "    <tr>\n",
       "      <th>CS8997</th>\n",
       "      <td>2014-06-28</td>\n",
       "      <td>14</td>\n",
       "      <td>543</td>\n",
       "      <td>P2</td>\n",
       "    </tr>\n",
       "    <tr>\n",
       "      <th>CS8998</th>\n",
       "      <td>2014-12-22</td>\n",
       "      <td>13</td>\n",
       "      <td>624</td>\n",
       "      <td>P2</td>\n",
       "    </tr>\n",
       "    <tr>\n",
       "      <th>CS8999</th>\n",
       "      <td>2014-07-02</td>\n",
       "      <td>12</td>\n",
       "      <td>383</td>\n",
       "      <td>P2</td>\n",
       "    </tr>\n",
       "    <tr>\n",
       "      <th>CS9000</th>\n",
       "      <td>2015-02-28</td>\n",
       "      <td>13</td>\n",
       "      <td>533</td>\n",
       "      <td>P2</td>\n",
       "    </tr>\n",
       "  </tbody>\n",
       "</table>\n",
       "<p>6884 rows × 4 columns</p>\n",
       "</div>"
      ],
      "text/plain": [
       "               recency  frequency  monetary segment\n",
       "customer_id                                        \n",
       "CS1112      2015-01-14         15      1012      P0\n",
       "CS1113      2015-02-09         20      1490      P0\n",
       "CS1114      2015-02-12         19      1432      P0\n",
       "CS1115      2015-03-05         22      1659      P0\n",
       "CS1116      2014-08-25         13       857      P2\n",
       "...                ...        ...       ...     ...\n",
       "CS8996      2014-12-09         13       582      P2\n",
       "CS8997      2014-06-28         14       543      P2\n",
       "CS8998      2014-12-22         13       624      P2\n",
       "CS8999      2014-07-02         12       383      P2\n",
       "CS9000      2015-02-28         13       533      P2\n",
       "\n",
       "[6884 rows x 4 columns]"
      ]
     },
     "execution_count": 51,
     "metadata": {},
     "output_type": "execute_result"
    }
   ],
   "source": [
    "rfm"
   ]
  },
  {
   "cell_type": "code",
   "execution_count": 52,
   "id": "a9ed1083-f6c4-4782-bdea-97e84aa34b9d",
   "metadata": {},
   "outputs": [],
   "source": [
    "df.to_csv('MainData.csv',index = False)"
   ]
  },
  {
   "cell_type": "code",
   "execution_count": 53,
   "id": "3759ba06-6e20-4350-ad85-ba81fe0cb268",
   "metadata": {},
   "outputs": [],
   "source": [
    "rfm.to_csv('AddAnalysis.csv')"
   ]
  },
  {
   "cell_type": "code",
   "execution_count": 54,
   "id": "ac2f7c5b-f65c-42ba-ab41-d2483c542fa1",
   "metadata": {},
   "outputs": [
    {
     "data": {
      "text/plain": [
       "Index(['recency', 'frequency', 'monetary', 'segment'], dtype='object')"
      ]
     },
     "execution_count": 54,
     "metadata": {},
     "output_type": "execute_result"
    }
   ],
   "source": [
    "rfm.columns"
   ]
  },
  {
   "cell_type": "code",
   "execution_count": 55,
   "id": "4ba920b7-7143-4aa2-bfa4-4d0da3884338",
   "metadata": {},
   "outputs": [
    {
     "data": {
      "text/plain": [
       "10"
      ]
     },
     "execution_count": 55,
     "metadata": {},
     "output_type": "execute_result"
    }
   ],
   "source": [
    "df['tran_amount'].min()"
   ]
  },
  {
   "cell_type": "code",
   "execution_count": 56,
   "id": "cfc31860-3411-4786-8423-26831bb09f49",
   "metadata": {},
   "outputs": [
    {
     "data": {
      "text/plain": [
       "105"
      ]
     },
     "execution_count": 56,
     "metadata": {},
     "output_type": "execute_result"
    }
   ],
   "source": [
    "df['tran_amount'].max()"
   ]
  },
  {
   "cell_type": "code",
   "execution_count": null,
   "id": "aa40801d-9a5b-4133-b2c8-09200d5baf5c",
   "metadata": {},
   "outputs": [],
   "source": []
  }
 ],
 "metadata": {
  "kernelspec": {
   "display_name": "Python 3 (ipykernel)",
   "language": "python",
   "name": "python3"
  },
  "language_info": {
   "codemirror_mode": {
    "name": "ipython",
    "version": 3
   },
   "file_extension": ".py",
   "mimetype": "text/x-python",
   "name": "python",
   "nbconvert_exporter": "python",
   "pygments_lexer": "ipython3",
   "version": "3.12.4"
  }
 },
 "nbformat": 4,
 "nbformat_minor": 5
}
